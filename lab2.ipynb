{
 "cells": [
  {
   "cell_type": "markdown",
   "id": "bf0b608fc736e1d6",
   "metadata": {},
   "source": [
    "# Lab 2: Linear regression in NumPy\n",
    "\n",
    "Before starting this chapter, please go through the `numpy_intro.ipynb` notebook!\n",
    "\n",
    "---"
   ]
  },
  {
   "cell_type": "markdown",
   "id": "5479e346363e465c",
   "metadata": {},
   "source": [
    "## Exercise 1: Matrix operations in NumPy (3 points)\n",
    "\n",
    "Here are a bunch of linear algebra tasks you are supposed to complete with NumPy. Work with [NumPy documentation](https://numpy.org/doc/stable/reference/routines.linalg.html) (and your search engine of choice) to find the functionalities you need.\n",
    "\n",
    "1. Create a 3x3 matrix $A$.\n",
    "\n",
    "    $A = \\begin{bmatrix} 1 & 2 & -1 \\\\ 2 & 1 & 2 \\\\ -1 & 2 & 1 \\end{bmatrix}$\n",
    "    \n",
    "    Remeber: The matrix is created by passing a list of lists to `np.array`. The outer list represents the **rows** of the matrix, and the inner lists represent the **elements in each row**. The matrix is of shape (rows, columns).\n",
    "\n",
    "2. Calculate $A^T$ (the transpose of matrix $A$). Print the transpose.\n",
    "3. Calculate $A^{-1}$ (the inverse of matrix $A$). Print the inverse.\n",
    "4. Multiply matrix $A$ by its inverse. What do you get? Print the result."
   ]
  },
  {
   "cell_type": "code",
   "id": "5a97152a0e20ff17",
   "metadata": {
    "ExecuteTime": {
     "end_time": "2024-12-09T10:40:16.139684Z",
     "start_time": "2024-12-09T10:40:16.120135Z"
    }
   },
   "source": [
    "#1\n",
    "import numpy as np\n",
    "macierz = np.array([[1, 2, -1],[2, 1, 2],[-1, 2, 1]])\n",
    "print('\\n') #wstawia pustą linijkę\n",
    "#2\n",
    "transpose = np.transpose(macierz)\n",
    "print(transpose)\n",
    "print('\\n')\n",
    "#3\n",
    "reverse = np.linalg.inv(macierz)\n",
    "print(reverse)\n",
    "print('\\n')\n",
    "#4\n",
    "#prod= macierz @ reverse (małpa mnoży wektory)\n",
    "prod=np.matmul(macierz,reverse).round(2)\n",
    "print(prod)"
   ],
   "outputs": [
    {
     "name": "stdout",
     "output_type": "stream",
     "text": [
      "\n",
      "\n",
      "[[ 1  2 -1]\n",
      " [ 2  1  2]\n",
      " [-1  2  1]]\n",
      "\n",
      "\n",
      "[[ 0.1875  0.25   -0.3125]\n",
      " [ 0.25    0.      0.25  ]\n",
      " [-0.3125  0.25    0.1875]]\n",
      "\n",
      "\n",
      "[[ 1.  0. -0.]\n",
      " [ 0.  1.  0.]\n",
      " [ 0.  0.  1.]]\n"
     ]
    }
   ],
   "execution_count": 8
  },
  {
   "cell_type": "markdown",
   "id": "173ba0e642709bb9",
   "metadata": {},
   "source": [
    "## Exercise 5: Rotating a vector (2 points)\n",
    "\n",
    "One of the first things you learn in a linear algebra class is how matrices can be used to rotate vectors in 2D space. It is also a common operation in computer graphics. To rotate a vector $v$ counterclokwise, you multiply it by a rotation matrix.\n",
    "\n",
    "$$v_{\\text{rotated}} = R v$$\n",
    "\n",
    "The rotation matrix for a 2D vector is given by:\n",
    "\n",
    "$R = \\begin{bmatrix} \\cos(\\theta) & -\\sin(\\theta) \\\\ \\sin(\\theta) & \\cos(\\theta) \\end{bmatrix}$\n",
    "\n",
    "where $\\theta$ is the angle of rotation in radians. You can convert an angle from degrees to radians using the formula $\\theta_{\\text{rad}} = \\theta_{\\text{deg}} \\times \\frac{\\pi}{180}$.\n",
    "\n",
    "1. Implement a function `rotate_vector(vector, angle)` that rotates a 2D vector (`np.array`) by a given angle in degrees. The function should return the rotated vector (as `np.array`).    "
   ]
  },
  {
   "cell_type": "code",
   "id": "2d9ad804be6c5cfa",
   "metadata": {
    "ExecuteTime": {
     "end_time": "2024-12-09T10:46:54.040783Z",
     "start_time": "2024-12-09T10:46:54.026785Z"
    }
   },
   "source": [
    "import math\n",
    "import numpy as np\n",
    "\n",
    "\n",
    "\n",
    "def rotate_vector(vector, angle):\n",
    "    rangle = angle * (math.pi / 180.0)\n",
    "    matrix = np.array([[math.cos(rangle), -math.sin(rangle)],[math.sin(rangle), math.cos(rangle)]])\n",
    "    rotated_vector = np.dot(matrix, vector)\n",
    "\n",
    "    return rotated_vector"
   ],
   "outputs": [],
   "execution_count": 13
  },
  {
   "cell_type": "code",
   "id": "40837d6419a08161",
   "metadata": {
    "ExecuteTime": {
     "end_time": "2024-12-09T10:47:19.333926Z",
     "start_time": "2024-12-09T10:47:19.323040Z"
    }
   },
   "source": [
    "# Test the function\n",
    "vector = np.array([1, 0])\n",
    "rotated_vector = rotate_vector(vector, 120)\n",
    "\n",
    "# Draw the original and rotated vectors (the plot_vectors function was already implemented by me, and it should work out of the box)\n",
    "plot_vectors(vector, rotated_vector)\n",
    "\n",
    "print(vector)\n",
    "print(rotated_vector)"
   ],
   "outputs": [
    {
     "name": "stdout",
     "output_type": "stream",
     "text": [
      "[1 0]\n",
      "[-0.5        0.8660254]\n"
     ]
    }
   ],
   "execution_count": 17
  },
  {
   "cell_type": "markdown",
   "id": "d46e21bafb2f001b",
   "metadata": {},
   "source": [
    "## Linear regression info dump\n",
    "\n",
    "Linear regression is a simple machine learning model that tries to find a linear relationship between a dependent variable and one or more independent variables. The model is represented by the equation:\n",
    "\n",
    "$$y = w_0 + w_1x_1 + w_2x_2 + ... + w_nx_n$$\n",
    "\n",
    "where:\n",
    "- $y$ is the dependent variable\n",
    "- $w_0, w_1, w_2, ..., w_n$ are the model parameters (weights)\n",
    "- $x_1, x_2, ..., x_n$ are the independent variables\n",
    "- $w_0$ is the bias term\n",
    "\n",
    "You may be familiar with the equation in the form $y = ax + b$, where $a$ is the slope and $b$ is the y-intercept. This is a special case of linear regression with one independent variable, its weight $a = w_1$ and bias $b = w_0$. In general, linear regression can handle multiple independent variables, each with its own weight.\n",
    "\n",
    "**We can apply one simple trick to make the maths a bit more elegant.** Let us rewrite the equation as:\n",
    "\n",
    "$$y = w_0x_0 + w_1x_1 + w_2x_2 + ... + w_nx_n$$\n",
    "\n",
    "where $x_0$ is always equal to 1, thus $w_0x_0$ always equals $w_0$. This seems redundant, as **why would we even want to multiply the bias term by 1?** Turns out, by using this trick, we can write the equation in a more compact form based on the dot product of two vectors:\n",
    "\n",
    "$$y = x \\cdot w = x^Tw$$\n",
    "\n",
    "where:\n",
    "- $y$ is the dependent variable\n",
    "- $w$ is a column vector of weights (with $w_0$ as the bias term)\n",
    "- $x^T$ is a row vector of independent variables (with $x_0$ always equal to 1)\n",
    "\n",
    "<center>\n",
    "<img src=\"imgs/linear-regression.png\" width=400>\n",
    "</center>\n",
    "\n",
    "**With this approach, and thanks to the magic of matrix algebra, we can calculate the predicted values for all observations in the dataset at once**. Instead of $x^T$ being a row vector, we can treat $x$ as a matrix with each row representing an observation and each column representing a feature. This matrix is called the **design matrix** and is denoted by $X$. The weights vector $w$ stays the same, the math still works out.\n",
    "\n",
    "$$y = Xw$$\n",
    "\n",
    "**Here is how the design matrix is constructed for a dataset of $m$ observations and $n$ features:**\n",
    "\n",
    "$$X = \\begin{bmatrix} 1 & x_{11} & x_{12} & \\dots & x_{1n} \\\\ 1 & x_{21} & x_{22} & \\dots & x_{2n} \\\\ \\vdots & \\vdots & \\vdots & \\ddots & \\vdots \\\\ 1 & x_{m1} & x_{m2} & \\dots & x_{mn} \\end{bmatrix}$$\n",
    "\n",
    "### The normal equation\n",
    "\n",
    "The goal of linear regression is to find the weights that minimize the difference between the predicted values and the actual values of the dependent variable $y$. This difference is called the **loss** or **cost** of the model. The most common loss function used in linear regression is the **mean squared error** (MSE), which is the average of the squared differences between the predicted and actual values.\n",
    "\n",
    "**The normal equation** lets us calculate the vector of weights that minimizes the MSE loss function. We derive it by differentiating the loss function with respect to the weights and setting the result to zero. The normal equation is given by the formula:\n",
    "\n",
    "$$w = (X^TX)^{-1}X^Ty$$\n",
    "\n",
    "where:\n",
    "- $w$ is the column vector of weights\n",
    "- $X$ is the design matrix, as explained above\n",
    "- $y$ is the column vector of dependent variables\n",
    "\n",
    "Remember that matrix multiplication is not commutative (the order of the matrices matters)."
   ]
  },
  {
   "cell_type": "markdown",
   "id": "fba360bd0c633886",
   "metadata": {},
   "source": [
    "## Exercise 3: Implement linear regression in NumPy (5 points)\n",
    "\n",
    "In this exercise, you will implement a simple linear regression model as a Python class. The class should have the following methods:\n",
    "\n",
    "- `__init__()`: This method should initialize the weights to `None`.\n",
    "- `fit(X, y)`: This method should update the weights and bias based on the data (using the normal equation).\n",
    "    * `X` should be a matrix of independent variables in the shape of (observations, features).\n",
    "    * `y` should be a column vector of dependent variables in the shape of (observations, 1).\n",
    "- `predict(X)`: This method should return the predicted values (as a column vector) based on the stored weights and data.\n",
    "\n",
    "Please remember, that in order to crate the **design matrix** $X$, you need to **add the column of ones** to the matrix of independent variables. This column corresponds to $x_0$, which is multiplied by $w_0$ (the bias term)."
   ]
  },
  {
   "cell_type": "code",
   "id": "571aaebcf9c6d741",
   "metadata": {
    "ExecuteTime": {
     "end_time": "2024-12-09T11:12:43.532935Z",
     "start_time": "2024-12-09T11:12:43.525750Z"
    }
   },
   "source": [
    "import numpy as np\n",
    "\n",
    "class LinReg:\n",
    "    \n",
    "    def __init__(self):\n",
    "        self.weights = None\n",
    "    \n",
    "    def fit(self, x, y):\n",
    "        ones = np.ones(X.shape[0])[:,np.newaxis] #dodaje kolumnę jedynek w wektorze\n",
    "        Xconcat = np. concatenate([ones, X], axis=1)\n",
    "        Xtr = np.matrix.transpose(Xconcat)\n",
    "        self.weights = np.linalg.inv((Xtr @ Xconcat) @ Xtr @ y)\n",
    "\n",
    "    \n",
    "    def predict(self, x):\n",
    "        return X @ self.weights\n"
   ],
   "outputs": [],
   "execution_count": 5
  },
  {
   "cell_type": "markdown",
   "id": "ca58e5e72280929c",
   "metadata": {},
   "source": [
    "### *Fit a linear regression model to some data\n",
    "\n",
    "**Here is some synthetic data which you can use to test your model.** Launch the code below to see how your linear regression model finds a solution to the least squares problem."
   ]
  },
  {
   "cell_type": "code",
   "id": "79303dba805b99dd",
   "metadata": {
    "ExecuteTime": {
     "end_time": "2024-12-09T11:12:45.265854Z",
     "start_time": "2024-12-09T11:12:45.258365Z"
    }
   },
   "source": [
    "import pandas as pd\n",
    "import seaborn as sns\n",
    "import numpy as np\n",
    "\n",
    "# load some synthetic data\n",
    "df = pd.read_csv('data/linear-regression.csv')"
   ],
   "outputs": [],
   "execution_count": 6
  },
  {
   "cell_type": "code",
   "id": "a88cbf4659d05441",
   "metadata": {
    "ExecuteTime": {
     "end_time": "2024-12-09T11:12:46.905910Z",
     "start_time": "2024-12-09T11:12:46.762045Z"
    }
   },
   "source": [
    "# visualize the data\n",
    "sns.scatterplot(data=df, x='X', y='y')"
   ],
   "outputs": [
    {
     "data": {
      "text/plain": [
       "<Axes: xlabel='X', ylabel='y'>"
      ]
     },
     "execution_count": 7,
     "metadata": {},
     "output_type": "execute_result"
    },
    {
     "data": {
      "text/plain": [
       "<Figure size 640x480 with 1 Axes>"
      ],
      "image/png": "[encoded data removed]"
     },
     "metadata": {},
     "output_type": "display_data"
    }
   ],
   "execution_count": 7
  },
  {
   "cell_type": "code",
   "id": "2125c68376a31907",
   "metadata": {
    "ExecuteTime": {
     "end_time": "2024-12-09T11:13:03.808554Z",
     "start_time": "2024-12-09T11:13:03.801792Z"
    }
   },
   "source": [
    "# split the data into X and y\n",
    "X = np.array(df['X']).reshape(-1, 1)    # reshape X to (n observations x 1 feature)\n",
    "y = np.array(df['y']).reshape(-1, 1)    # reshape y to (n observations x 1 target)\n",
    "\n",
    "model = LinReg()"
   ],
   "outputs": [],
   "execution_count": 11
  },
  {
   "cell_type": "code",
   "id": "b8a66fa14eb3703a",
   "metadata": {
    "ExecuteTime": {
     "end_time": "2024-12-09T11:12:51.913944Z",
     "start_time": "2024-12-09T11:12:51.733605Z"
    }
   },
   "source": [
    "# fit the model to the data\n",
    "\n",
    "model.fit(X, y)"
   ],
   "outputs": [
    {
     "ename": "LinAlgError",
     "evalue": "Last 2 dimensions of the array must be square",
     "output_type": "error",
     "traceback": [
      "\u001B[1;31m---------------------------------------------------------------------------\u001B[0m",
      "\u001B[1;31mLinAlgError\u001B[0m                               Traceback (most recent call last)",
      "Cell \u001B[1;32mIn[9], line 3\u001B[0m\n\u001B[0;32m      1\u001B[0m \u001B[38;5;66;03m# fit the model to the data\u001B[39;00m\n\u001B[1;32m----> 3\u001B[0m model\u001B[38;5;241m.\u001B[39mfit(X, y)\n",
      "Cell \u001B[1;32mIn[5], line 12\u001B[0m, in \u001B[0;36mLinReg.fit\u001B[1;34m(self, x, y)\u001B[0m\n\u001B[0;32m     10\u001B[0m Xconcat \u001B[38;5;241m=\u001B[39m np\u001B[38;5;241m.\u001B[39m concatenate([ones, X], axis\u001B[38;5;241m=\u001B[39m\u001B[38;5;241m1\u001B[39m)\n\u001B[0;32m     11\u001B[0m Xtr \u001B[38;5;241m=\u001B[39m np\u001B[38;5;241m.\u001B[39mmatrix\u001B[38;5;241m.\u001B[39mtranspose(Xconcat)\n\u001B[1;32m---> 12\u001B[0m \u001B[38;5;28mself\u001B[39m\u001B[38;5;241m.\u001B[39mweights \u001B[38;5;241m=\u001B[39m np\u001B[38;5;241m.\u001B[39mlinalg\u001B[38;5;241m.\u001B[39minv((Xtr \u001B[38;5;241m@\u001B[39m Xconcat) \u001B[38;5;241m@\u001B[39m Xtr \u001B[38;5;241m@\u001B[39m y)\n",
      "File \u001B[1;32m~\\.conda\\envs\\pum-24\\Lib\\site-packages\\numpy\\linalg\\_linalg.py:603\u001B[0m, in \u001B[0;36minv\u001B[1;34m(a)\u001B[0m\n\u001B[0;32m    601\u001B[0m a, wrap \u001B[38;5;241m=\u001B[39m _makearray(a)\n\u001B[0;32m    602\u001B[0m _assert_stacked_2d(a)\n\u001B[1;32m--> 603\u001B[0m _assert_stacked_square(a)\n\u001B[0;32m    604\u001B[0m t, result_t \u001B[38;5;241m=\u001B[39m _commonType(a)\n\u001B[0;32m    606\u001B[0m signature \u001B[38;5;241m=\u001B[39m \u001B[38;5;124m'\u001B[39m\u001B[38;5;124mD->D\u001B[39m\u001B[38;5;124m'\u001B[39m \u001B[38;5;28;01mif\u001B[39;00m isComplexType(t) \u001B[38;5;28;01melse\u001B[39;00m \u001B[38;5;124m'\u001B[39m\u001B[38;5;124md->d\u001B[39m\u001B[38;5;124m'\u001B[39m\n",
      "File \u001B[1;32m~\\.conda\\envs\\pum-24\\Lib\\site-packages\\numpy\\linalg\\_linalg.py:202\u001B[0m, in \u001B[0;36m_assert_stacked_square\u001B[1;34m(*arrays)\u001B[0m\n\u001B[0;32m    200\u001B[0m m, n \u001B[38;5;241m=\u001B[39m a\u001B[38;5;241m.\u001B[39mshape[\u001B[38;5;241m-\u001B[39m\u001B[38;5;241m2\u001B[39m:]\n\u001B[0;32m    201\u001B[0m \u001B[38;5;28;01mif\u001B[39;00m m \u001B[38;5;241m!=\u001B[39m n:\n\u001B[1;32m--> 202\u001B[0m     \u001B[38;5;28;01mraise\u001B[39;00m LinAlgError(\u001B[38;5;124m'\u001B[39m\u001B[38;5;124mLast 2 dimensions of the array must be square\u001B[39m\u001B[38;5;124m'\u001B[39m)\n",
      "\u001B[1;31mLinAlgError\u001B[0m: Last 2 dimensions of the array must be square"
     ]
    }
   ],
   "execution_count": 9
  },
  {
   "cell_type": "code",
   "execution_count": null,
   "id": "584768212f09642e",
   "metadata": {},
   "outputs": [],
   "source": [
    "# see the trained parameters\n",
    "\n",
    "b, a = model.weights    # in reverse, because the first element in the weights vector is the bias (w0)\n",
    "print(\"Slope:\", a)\n",
    "print(\"Bias:\", b)"
   ]
  },
  {
   "cell_type": "code",
   "execution_count": null,
   "id": "ab6e95bdc6f189cd",
   "metadata": {},
   "outputs": [],
   "source": [
    "# plot the regression line (we will learn how to do such plots in the next lab)\n",
    "\n",
    "sns.scatterplot(data=df, x='X', y='y')\n",
    "\n",
    "xs = np.linspace(-3, 2, 100)\n",
    "ys = xs*a + b\n",
    "sns.lineplot(x=xs, y=ys, color='red')"
   ]
  },
  {
   "cell_type": "markdown",
   "id": "42b6818eb1323b9d",
   "metadata": {},
   "source": [
    "### Scikit-learn saves the trouble of implementing ML models by hand\n",
    "\n",
    "You do not usually implement linear regression from scratch in a real-world project. Instead, you would use a library such as `sklearn`, which provides a simple interface to train and use tons of different machine learning models. \n",
    "\n",
    "**The scikit-learn interface is very similar to the one you implemented in the previous exercise.** Each model is implemented as a class with the methods `fit` and `predict`. Besides, scikit-learn provides many useful tools for data preprocessing, model selection, and evaluation. We will work with scikit-learn models from now on!"
   ]
  },
  {
   "cell_type": "code",
   "execution_count": null,
   "id": "65bdbe3d6d4706e3",
   "metadata": {},
   "outputs": [],
   "source": [
    "from sklearn.linear_model import LinearRegression\n",
    "\n",
    "model = LinearRegression()\n",
    "model.fit(X, y)\n",
    "y = model.predict(X)\n",
    "\n",
    "print(\"Slope:\", model.coef_[0])\n",
    "print(\"Bias:\", model.intercept_)\n",
    "\n",
    "sns.scatterplot(data=df, x='X', y='y')\n",
    "sns.lineplot(x=X, y=y, color='red')"
   ]
  }
 ],
 "metadata": {
  "kernelspec": {
   "display_name": "Python 3 (ipykernel)",
   "language": "python",
   "name": "python3"
  },
  "language_info": {
   "codemirror_mode": {
    "name": "ipython",
    "version": 3
   },
   "file_extension": ".py",
   "mimetype": "text/x-python",
   "name": "python",
   "nbconvert_exporter": "python",
   "pygments_lexer": "ipython3",
   "version": "3.9.20"
  }
 },
 "nbformat": 4,
 "nbformat_minor": 5
}
