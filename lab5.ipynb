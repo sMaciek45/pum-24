{
 "cells": [
  {
   "metadata": {},
   "cell_type": "markdown",
   "source": [
    "\n",
    "# Lab 5: Introduction to neural networks with PyTorch.\n",
    "\n",
    "In this lab, we will get familiar with the concept of a **perceptron**, implement it in `numpy` and fit it to some data with the use of **gradient descent algorithm**. On the basis of a perceptron, we will explore feed-forward neural networks and learn how to implement them easily using `torch`. We will go over the data loading process, the training loop, and the evaluation of a trained neural network.\n",
    "\n",
    "---\n",
    "\n",
    "## Reading material\n",
    "\n",
    "<center>\n",
    "<img src=\"imgs/3blue1brown.png\" width=\"600\">\n",
    "</center>\n",
    "\n",
    "</br>\n",
    "\n",
    "**Grant Sanderson's 3Blue1Brown video series on neural networks:**\n",
    "\n",
    "* [But what is a neural network?](https://www.youtube.com/watch?v=aircAruvnKk)\n",
    "* [Gradient descent, how neural networks learn](https://www.youtube.com/watch?v=IHZwWFHWa-w)\n",
    "* [What is backpropagation really doing?](https://www.youtube.com/watch?v=Ilg3gGewQ5U)\n",
    "* [Backpropagation calculus](https://www.youtube.com/watch?v=tIeHLnjs5U8)\n",
    "\n"
   ],
   "id": "77c77a1c1215690f"
  },
  {
   "metadata": {},
   "cell_type": "markdown",
   "source": [
    "Before we move on to neural networks themselves, let's get grasp of **optimization algorithms**, which are responsible for training deep learning models. \n",
    "\n",
    "## Gradient descent\n",
    "\n",
    "The **gradient descent algorithm** is an optimization algorithm, which means it conducts a search for an argument $x$ of a function $f$ that minimizes $f(x)$. The function that we are trying to minimize in context of deep learning is called the **loss function** which measures how far the model's predictions are from the true values. The arguments of the loss function are the **model's parameters**, and thus the goal of training a neural network is to find the parameters that minimize the loss function.\n",
    "\n",
    "**Gradient is a vector that points in the direction of the steepest increase of the function.** It is a vector of partial derivatives of the function with respect to each parameter. The gradient points in the direction of the steepest increase of the function, and the negative gradient points in the direction of the steepest decrease of the function.\n",
    "\n",
    "$$ x_{n+1} = x_n - \\alpha \\cdot f'(x_n) $$\n",
    "where:\n",
    "* $x_n$ is the current value of the parameter,\n",
    "* $x_{n+1}$ is the updated value of the parameter,\n",
    "* $\\alpha$ is the learning rate (a hyperparameter that you can tune).\n",
    "* $f'(x_n)$ is the derivative (gradient) at the current value of the parameter.\n"
   ],
   "id": "fd2fcd50f1fd2c69"
  },
  {
   "metadata": {},
   "cell_type": "markdown",
   "source": [
    "## Exercise 1: Implement the gradient descent algorithm (3 points)\n",
    "\n",
    "We will try to minimize the function $f(x) = 2x^4 - x^3 - 6x^2 + 4x$\n",
    "\n",
    "1. Implement the function `f`. Calculate the derivative of the function manually and implement it as the function `grad`.\n",
    "2. Implement a single step of gradient descent in numpy. The `descent_step` function should take the following arguments:\n",
    "\n",
    "* `x` - the initial value of the parameter,\n",
    "* `grad` - the value of the gradient $\\frac{df}{dx}$ at the current value of the parameter,\n",
    "* `alpha` - the learning rate\n",
    "\n",
    "    The function should return the updated value of the parameter $x$.\n",
    "\n",
    "3. Starting at $x = 2$, run the gradient descent algorithm for 10 steps. Plot the function $f(x)$ in range $[-2, 2]$ and mark the points $(x, f(x))$ for each step of the algorithm. What do you observe about the convergence of the algorithm for different values of the learning rate?"
   ],
   "id": "3fd33684a5506fa3"
  },
  {
   "metadata": {
    "ExecuteTime": {
     "end_time": "2025-01-19T17:05:56.289587Z",
     "start_time": "2025-01-19T17:05:56.284694Z"
    }
   },
   "cell_type": "code",
   "source": [
    "import numpy as np\n",
    "import matplotlib.pyplot as plt\n",
    "\n",
    "def f(x):\n",
    "    return 2 * x**4 - x**3 - 6 * x**2 + 4 * x\n",
    "\n",
    "def grad(x):\n",
    "    return 8 * x**3 - 3 * x**2 - 12 * x + 4\n",
    "\n",
    "def descent_step(x, grad, alpha):\n",
    "    return x - alpha * grad\n"
   ],
   "id": "ec9688ac4c728d87",
   "outputs": [],
   "execution_count": 18
  },
  {
   "metadata": {
    "ExecuteTime": {
     "end_time": "2025-01-19T17:06:05.281791Z",
     "start_time": "2025-01-19T17:06:05.264751Z"
    }
   },
   "cell_type": "code",
   "source": [
    "alpha = 0.003\n",
    "\n",
    "x = 2   # initial value of the parameter\n",
    "\n",
    "xs = [2]    # we will store the updated x values here\n",
    "\n",
    "for step in range(10):  # run the algorithm for 10 steps\n",
    "    x = descent_step(x, grad(x), alpha)   # update x\n",
    "    xs.append(x)    # save the updated x\n",
    "\n",
    "from helpers.plotting import plot_gradient_descent\n",
    "plot_gradient_descent(f, xs)"
   ],
   "id": "ed20dfa676650890",
   "outputs": [
    {
     "ename": "ImportError",
     "evalue": "cannot import name 'plot_gradient_descent' from 'helpers.plotting' (C:\\Users\\mslot\\Documents\\GitHub\\pum-24\\helpers\\plotting.py)",
     "output_type": "error",
     "traceback": [
      "\u001B[1;31m---------------------------------------------------------------------------\u001B[0m",
      "\u001B[1;31mImportError\u001B[0m                               Traceback (most recent call last)",
      "Cell \u001B[1;32mIn[19], line 11\u001B[0m\n\u001B[0;32m      8\u001B[0m     x \u001B[38;5;241m=\u001B[39m descent_step(x, grad(x), alpha)   \u001B[38;5;66;03m# update x\u001B[39;00m\n\u001B[0;32m      9\u001B[0m     xs\u001B[38;5;241m.\u001B[39mappend(x)    \u001B[38;5;66;03m# save the updated x\u001B[39;00m\n\u001B[1;32m---> 11\u001B[0m \u001B[38;5;28;01mfrom\u001B[39;00m \u001B[38;5;21;01mhelpers\u001B[39;00m\u001B[38;5;21;01m.\u001B[39;00m\u001B[38;5;21;01mplotting\u001B[39;00m \u001B[38;5;28;01mimport\u001B[39;00m plot_gradient_descent\n\u001B[0;32m     12\u001B[0m plot_gradient_descent(f, xs)\n",
      "\u001B[1;31mImportError\u001B[0m: cannot import name 'plot_gradient_descent' from 'helpers.plotting' (C:\\Users\\mslot\\Documents\\GitHub\\pum-24\\helpers\\plotting.py)"
     ]
    }
   ],
   "execution_count": 19
  },
  {
   "metadata": {},
   "cell_type": "markdown",
   "source": [
    "## Perceptron\n",
    "\n",
    "The simplest form of a neural network is a **perceptron**, which is a single node that takes an input vector $x$ and produces an output value $y$. The perceptron computes a **weighted sum of the inputs** and adds a **bias term**. The result is then passed through an **activation function**, which in our case will be the **sigmoid function**. Sigmoid function squashes the output of the perceptron to the range $[0, 1]$, which will correspond to the probability of the input belonging to the positive class.\n",
    "\n",
    "The perceptron can be used to solve simple classification problems, as we will see in the next exercise.\n",
    "\n",
    "<center>\n",
    "<img src=\"imgs/perceptron.png\" width=\"400\" align=\"c\"/>\n",
    "</center>\n",
    "\n",
    "$$ y = f(w^{T}x + b) = f(w_1x_1 + w_2x_2 + ... + w_nx_n + b) $$\n",
    "\n",
    "where:\n",
    "* $w$ is the vector of weights,\n",
    "* $x$ is the input vector,\n",
    "* $b$ is the bias vector,\n",
    "* $f$ is the activation function.\n",
    "\n",
    "The transformation $y = Wx + b$ performed by a perceptron is called an **affine transformation**, and can be thought of as a simple linear regression model. \n",
    "\n",
    "## Loss function\n",
    "\n",
    "The loss function is a measure of how well the model is performing - it is used to compute the error between the model's predictions $\\hat{y}$ and the true values $y$. **The goal of training a neural network is to minimize the loss function.** The loss function takes the model's predictions and the true values as arguments, and returns a single number that represents the error of the model.\n",
    "\n",
    "For regression problems, the **mean squared error (MSE)** is a common loss function - you may remember it from linear regression we implemented earlier in numpy. The MSE is the average of the squared differences between the model's predictions and the true values. It is implemented in PyTorch as `nn.MSELoss`. It is defined as:\n",
    "\n",
    "$$ L = \\frac{1}{N} \\sum_{i=1}^{N} (y_i - \\hat{y}_i)^2 $$\n",
    "where:\n",
    "* $y_i$ is the true value,\n",
    "* $\\hat{y}_i$ is the model's prediction,\n",
    "* $N$ is the number of samples.\n",
    "\n",
    "For classification problems, the **cross-entropy loss** is a common loss function. It is used when the model's output is a probability distribution over the classes. The cross-entropy loss is the negative log-likelihood of the true class under the model's predicted distribution. The cross-entropy loss is implemented in PyTorch as `nn.CrossEntropyLoss`. It is defined as:\n",
    "\n",
    "$$ L = -\\sum_{i=1}^{n} y_i \\log(\\hat{y}_i) $$\n",
    "where:\n",
    "* $y_i$ is the truth label (0 or 1) of the $i_{th}$ class,\n",
    "* $\\hat{y}_i$ is the model's predicted probability for the true class,\n",
    "* $n$ is the number of classes.\n",
    "\n",
    "Note, that in classification problems only one class has a non-zero probability, so the cross-entropy loss simplifies to **taking the negative log of the model's predicted probability for the true class**. You may then wonder - why not simply use the negative log of the model's predicted probability for the true class as the loss? The reason is that the cross-entropy loss is **differentiable**, and you already know that the ability to calculate a derivative is a big deal in deep learning. The operation of manually choosing the true class and taking the negative log of the model's predicted probability for that class is not differentiable.\n",
    "\n",
    "## Exercise 2: Implement a perceptron (4 points)\n",
    "\n",
    "In this exercise we will implement a simple perceptron which two inputs $x_1$ and $x_2$ and returns an output $y$. The perceptron should apply the **sigmoid activation function** to the weighted sum of the inputs and the bias. The sigmoid function squashes the output of the perceptron to the range $[0, 1]$, and is defined as:\n",
    "\n",
    "$$ \\sigma(x) = \\frac{1}{1 + e^{-x}} $$\n",
    "\n",
    "The output of the perceptron is then given by:\n",
    "\n",
    "$$ \\hat{y} = \\sigma(w_1x_1 + w_2x_2 + b) $$\n",
    "\n",
    "where:\n",
    "* $w_1, w_2$ are the weights,\n",
    "* $b$ is the bias,\n",
    "* $x_1, x_2$ are the inputs (data),\n",
    "* $\\sigma$ is the sigmoid function defined above.\n",
    "\n",
    "Implement a `SimplePerceptron` class with the following methods:\n",
    "\n",
    "* `__init__` - the constructor should take an argument `alpha` (learning rate), save it to an attribute and initialize the attributes $w_1, w_2$ (weights) and the $b$ (bias) with zeros.\n",
    "* `forward` - the forward method should take the input $x$ and return the output $y$, according to the formula above.\n",
    "* `loss` - the loss method should take the model prediction $\\hat{y}$ and the true value $y$, and return the cross-entropy loss \n",
    "$$L = -y \\log(\\hat{y}) - (1 - y) \\log(1 - \\hat{y})$$\n",
    "    where $y$ is the true value (0 or 1) and $\\hat{y}$ is the model's prediction.\n",
    "\n",
    "* `get_grad_w1`- the method should return the gradient of the loss with respect to $w_1$.\n",
    "* `get_grad_w2`- the method should return the gradient of the loss with respect to $w_2$.\n",
    "* `get_grad_b`- the method should return the gradient of the loss with respect to $b$.\n",
    "* `update` - the method should update the weights and the bias using the gradients and the learning rate $\\alpha$ passed during the initialization.\n",
    "\n",
    "**Hint:** The gradient of the loss with respect to the weights and the bias can be calculated manually using **the chain rule**. If you find yourself needing help, the derivative of the sigmoid function with is given by:\n",
    "\n",
    "$$\\frac{\\partial \\sigma}{\\partial x} = \\sigma(x)(1 - \\sigma(x))$$ \n",
    "\n",
    "and the derivative of the loss function is given by:\n",
    "\n",
    "$$\\frac{\\partial L}{\\partial \\hat{y}} = -\\frac{y}{\\hat{y}} + \\frac{1 - y}{1 - \\hat{y}}$$"
   ],
   "id": "cfd9ec533da08e5f"
  },
  {
   "metadata": {
    "ExecuteTime": {
     "end_time": "2025-01-19T17:28:27.732695Z",
     "start_time": "2025-01-19T17:28:27.726243Z"
    }
   },
   "cell_type": "code",
   "source": [
    "import numpy as np\n",
    "\n",
    "class SimplePerceptron:\n",
    "\n",
    "    def __init__(self, alpha):\n",
    "        # This method should initialize the weights and the bias as zeros\n",
    "        self.alpha = alpha\n",
    "        self.w1 = 0  # waga dla x1\n",
    "        self.w2 = 0  # waga dla x2\n",
    "        self.b = 0   # bias\n",
    "\n",
    "    def forward(self, x):   # x is a vector of two elements [x1, x2]\n",
    "        # This method should return the output of the perceptron\n",
    "        z = self.w1 * x[0] + self.w2 * x[1] + self.b\n",
    "        return self.sigmoid(z)\n",
    "\n",
    "    def update(self, x, y):  # y_pred and y are scalars\n",
    "        # This method should update the weights and the bias based on the gradients\n",
    "        y_pred = self.forward(x)\n",
    "\n",
    "        grad_w1 = self.get_grad_w1(y_pred, y, x)\n",
    "        grad_w2 = self.get_grad_w2(y_pred, y, x)\n",
    "        grad_b = self.get_grad_b(y_pred, y)\n",
    "\n",
    "        self.w1 -= self.alpha * grad_w1\n",
    "        self.w2 -= self.alpha * grad_w2\n",
    "        self.b -= self.alpha * grad_b\n",
    "\n",
    "    def get_grad_w1(self, y_pred, y, x):  # y_pred and y are scalars\n",
    "        # This method should return the gradient of the loss with respect to w1\n",
    "        return (y_pred - y) * y_pred * (1 - y_pred) * x[0]\n",
    "\n",
    "    def get_grad_w2(self, y_pred, y, x):  # y_pred and y are scalars\n",
    "        # This method should return the gradient of the loss with respect to w2\n",
    "        return (y_pred - y) * y_pred * (1 - y_pred) * x[1]\n",
    "\n",
    "    def get_grad_b(self, y_pred, y):  # y_pred and y are scalars\n",
    "        # This method should return the gradient of the loss with respect to b\n",
    "        return (y_pred - y) * y_pred * (1 - y_pred)\n",
    "\n",
    "    def loss(self, y_pred, y):  # y_pred and y are scalars\n",
    "        l = -y * np.log(y_pred) - (1 - y) * np.log(1 - y_pred)\n",
    "        return l\n",
    "\n",
    "    def sigmoid(self, x):   # already implemented sigmoid function\n",
    "        return 1 / (1 + np.exp(-x))"
   ],
   "id": "a53df5ffd4c2a8e7",
   "outputs": [],
   "execution_count": 37
  },
  {
   "metadata": {},
   "cell_type": "markdown",
   "source": [
    "## Training the perceptron\n",
    "\n",
    "We will now train the perceptron on some data. For the sake of clarity, we will choose one of the simplest tasks and make it just execute the logical OR operation. **The OR gate is a simple binary function that returns 1 if at least one of the two inputs is 1, else it returns 0.** It can be thought of as a simple classification problem, where the features are the possible combinations of 0 and 1, and the labels are the corresponding results of the OR gate. The truth table for the OR gate is as follows:\n",
    "\n",
    "<center>\n",
    "<img src=\"imgs/or.png\" width=\"500\">"
   ],
   "id": "a54855effceca828"
  },
  {
   "metadata": {
    "ExecuteTime": {
     "end_time": "2025-01-19T17:28:39.905144Z",
     "start_time": "2025-01-19T17:28:39.622662Z"
    }
   },
   "cell_type": "code",
   "source": [
    "OR_X = np.array([[1, 1], [1, 0], [0, 1], [0, 0]])  # possible OR inputs\n",
    "OR_y = np.array([[1], [1], [1], [0]])  # corresponding outputs\n",
    "\n",
    "perceptron = SimplePerceptron(alpha=0.2)    # initialize the perceptron\n",
    "\n",
    "losses = []     # this list will store the loss at each epoch for plotting\n",
    "EPOCHS = 1000   # number of epochs (iterations over the entire dataset)\n",
    "\n",
    "for i in range(EPOCHS): \n",
    "    epoch_loss = 0  # this variable will accumulate the loss for each epoch\n",
    "    for X, y in zip(OR_X, OR_y):    # iterate over the dataset (which is 4 samples)\n",
    "        y_pred = perceptron.forward(X)\n",
    "        epoch_loss += perceptron.loss(y_pred, y)  # accumulate the loss\n",
    "        perceptron.update(X, y)   # update the weights and the bias\n",
    "    \n",
    "    losses.append(epoch_loss)   # save the loss for plotting\n",
    "        \n",
    "# plot the loss\n",
    "import matplotlib.pyplot as plt\n",
    "\n",
    "plt.plot(losses)"
   ],
   "id": "6926df30bafbf812",
   "outputs": [
    {
     "data": {
      "text/plain": [
       "[<matplotlib.lines.Line2D at 0x25f9385eae0>]"
      ]
     },
     "execution_count": 38,
     "metadata": {},
     "output_type": "execute_result"
    },
    {
     "data": {
      "text/plain": [
       "<Figure size 640x480 with 1 Axes>"
      ],
      "image/png": "[encoded data removed]"
     },
     "metadata": {},
     "output_type": "display_data"
    }
   ],
   "execution_count": 38
  },
  {
   "metadata": {
    "ExecuteTime": {
     "end_time": "2025-01-19T17:28:44.771512Z",
     "start_time": "2025-01-19T17:28:44.767044Z"
    }
   },
   "cell_type": "code",
   "source": [
    "# test the trained model\n",
    "\n",
    "print(\"For [1, 1] the model predicts:\", perceptron.forward([1, 1]))\n",
    "print(\"For [1, 0] the model predicts:\", perceptron.forward([1, 0]))\n",
    "print(\"For [0, 0] the model predicts:\", perceptron.forward([0, 0]))"
   ],
   "id": "b77bdabc0a0b376",
   "outputs": [
    {
     "name": "stdout",
     "output_type": "stream",
     "text": [
      "For [1, 1] the model predicts: [0.99866521]\n",
      "For [1, 0] the model predicts: [0.9160923]\n",
      "For [0, 0] the model predicts: [0.1371595]\n"
     ]
    }
   ],
   "execution_count": 39
  },
  {
   "metadata": {},
   "cell_type": "markdown",
   "source": [
    "## Linearly separable data\n",
    "\n",
    "OR gate is a simple example of a **linearly separable problem**. A problem is linearly separable if it is possible to draw a straight line (or a hyperplane in higher dimensions) that separates the classes. **The OR gate is linearly separable because it is possible to draw a line that separates the inputs that yield 1 from the inputs that yield 0.**\n",
    "\n",
    "<center>\n",
    "<img src=\"imgs/separability.png\" width=\"700\">\n",
    "</center>\n",
    "<br>\n",
    "\n",
    "An example of a problem that is not linearly separable is the **XOR gate** (exclusive OR). The XOR gate behaves as the OR gate, but it returns 0 if both inputs are 1.\n",
    "\n",
    "<center>\n",
    "<img src=\"imgs/xor.png\" width=\"500\">\n",
    "</center>\n",
    "<br>\n",
    "\n",
    "A single perceptron is not able to solve the XOR problem, as it is not linearly separable. The XOR problem is a simple example of a problem that requires a more complex model to solve. **If you try to train a perceptron on the XOR data, you will find that the model will not converge to a solution.**\n",
    "\n",
    "## *Exercise: Plot the decision boundary for the OR problem\n",
    "\n",
    "**The decision boundary is a curve (or hyperplane) that separates the classes (0 and 1) in the input space, as learned by the classifier during training.** Its equation is defined by the weights and the bias of the model. Try to plot the decision boundary for the perceptron trained on the OR data.\n",
    "\n",
    "**Hint:** The decision boundary of a perceptron with two inputs is a line. The points on this line are exactly the points for which our model is completely uncertain whether they belong to class 0 or class 1."
   ],
   "id": "a45d91e850c0c96a"
  },
  {
   "metadata": {},
   "cell_type": "code",
   "source": [
    "# Your code goes here\n",
    "..."
   ],
   "id": "a09769101db57e65",
   "outputs": [],
   "execution_count": null
  },
  {
   "metadata": {},
   "cell_type": "markdown",
   "source": [
    "## Multi-layer perceptron\n",
    "\n",
    "By stacking multiple perceptrons together, we can create a **multi-layer perceptron (MLP)**, a name that is often used interchangeably with a **feed-forward neural network**.\n",
    "\n",
    "A feed-forward neural network is composed of perceptrons arranged in layers. **A layer is not a physical entity, but a mathematical operation that transforms some input data into some output data.** Each node in a layer is connected to every node in the next layer (thus we often call those network **fully-connected**). The connections between the nodes are represented by weights, which are learned during the training process. Each node calculates a **weighted sum of its inputs and adds a bias term**. The output is then passed through an activation function, which is what really makes a multi-layer perceptron different from simple linear regression. \n",
    "\n",
    "A typical feed-forward neural network is composed of three types of layers: the **input layer**, the **hidden layers**, and the **output layer**. The input layer is the first layer of the network and just takes the data to be processed by the network. The hidden layers are there to transform the input data into a form that is more suitable for the output layer. They are called hidden because we do not observe their output directly. The output layer is the last layer of the network and produces the final output of the network. The output layer usually has a different number of nodes than the hidden layers, depending on the problem we are trying to solve.\n",
    "\n",
    "**The activation function introduces non-linearity to the model**, and unlocks the ability of MLPs to potentially learn any complex pattern in data. For example, the aforementioned XOR problem can be solved by a network composed of two neurons in the hidden layer. The decision boundary of such a classifier would be two straight lines, which is enough to separate the classes of XOR data in its input space. MLPs are generally able to **approximate any function, given enough layers or neurons**, as described by the [universal approximation theorem.](http://neuralnetworksanddeeplearning.com/chap4.html)\n",
    "\n",
    "<center>\n",
    "<img src=\"imgs/linear-layer.png\" width=\"600\" align=\"c\"/>\n",
    "</center>"
   ],
   "id": "4409bb6a047a4893"
  },
  {
   "metadata": {},
   "cell_type": "markdown",
   "source": [
    "## PyTorch\n",
    "\n",
    "PyTorch is a object-oriented library for deep learning, so in this chapter, we will work with classes and objects a lot. `nn.Module` is the base class for all neural network modules in PyTorch. The neural network itself, the individual layers, the activation functions and the loss functions are subclasses of `nn.Module`.\n",
    "\n",
    "Pytorch is built around the concept of **automatic differentiation**. This means that the library keeps track of all the operations that are performed on tensors, and can compute the gradients of any tensor with respect to any other tensor. In the previous exercise, we calculated the gradients of the loss function for a single perceptron manually. We really don't want to do this for a neural network with hundreds of neurons and layers. **PyTorch does this for us automatically, which is why it is so popular for deep learning.**\n",
    "\n",
    "Every instance of `nn.Module` should have a `forward` method. The `forward` method is the actual computation that is done in the network. When you call the network on a batch of inputs, the `forward` method is called with the input data as an argument. It is important to note that all the operations in the `forward` method should be differentiable - this is necessary for the backpropagation algorithm to work. In practice, this means that you should use the functions from the `torch` module to perform computations in the `forward` method. For a list of mathematical operations available in PyTorch, refer to the [documentation](https://pytorch.org/docs/stable/torch.html#math-operations).\n",
    "\n"
   ],
   "id": "82f9158df3e8fe2f"
  },
  {
   "metadata": {},
   "cell_type": "markdown",
   "source": [
    "## Exercise 2: Implement a simple feed-forward neural network (2 points)\n",
    "\n",
    "Implement a neural network with one hidden layer and ReLU activation function. The network should have the following architecture:\n",
    "\n",
    "* Input layer: 1 node for $x$\n",
    "* Hidden layer: $n$ nodes (pass the number of nodes as an argument to the constructor)\n",
    "* Output layer: 1 node for $y$\n",
    "\n",
    "<center>\n",
    "<img src=\"imgs/simple-network.png\", width=\"400\">\n",
    "</center>\n",
    "<br>\n",
    "\n",
    "In the `forward` method, the input $x$ should be transformed by the hidden layer, followed by the ReLU activation function, to yield $h$. The output $h$ should then be passed through the output layer, which is another linear layer, to get $y$. No activation function is to be applied to the output layer.\n"
   ],
   "id": "148615ea18b4383e"
  },
  {
   "metadata": {
    "ExecuteTime": {
     "end_time": "2025-01-19T17:39:16.508184Z",
     "start_time": "2025-01-19T17:39:16.494909Z"
    }
   },
   "cell_type": "code",
   "source": [
    "import torch.nn as nn\n",
    "import torch\n",
    "\n",
    "class NeuralNetwork(nn.Module):\n",
    "    def __init__(self, hidden_size):\n",
    "        super(NeuralNetwork, self).__init__()\n",
    "        self.hidden = nn.Linear(1, hidden_size)\n",
    "        self.output = nn.Linear(hidden_size, 1)\n",
    "    def forward(self, x):\n",
    "        h = torch.relu(self.hidden(x))\n",
    "        y = self.output(h)\n",
    "        return y"
   ],
   "id": "4bc5dccd8ac4702e",
   "outputs": [],
   "execution_count": 46
  },
  {
   "metadata": {},
   "cell_type": "markdown",
   "source": [
    "## Data batches and stochastic gradient descent (SGD)\n",
    "\n",
    "When training neural networks using gradient descent algorithms, we do not usually fit the model to all the data at once. Instead, we tend to divide our training set into small chunks, called **batches**, and update model parameters after each batch. If the batches are drawn randomly from the dataset, the method is called **stochastic gradient descent (SGD)**. This approach has proven to be very effective in practice, as it makes the calculations less expensive and the optimization process more robust.\n",
    "\n",
    "<center>\n",
    "<img src=\"imgs/lecun.png\", width=\"400\">\n",
    "</center>\n",
    "</br>\n",
    " \n",
    "PyTorch library provides a class `torch.utils.data.DataLoader` which, given a dataset, generates the batches for us. The `DataLoader` class allows you to specify the batch size, shuffle the data, and use multiple workers to load the data in parallel to speed up the process.\n",
    "\n",
    "The usual workflow of preparing the data for training a PyTorch neural network is as follows:\n",
    "* Load the data from a file or a database.\n",
    "* Convert the data to PyTorch tensors.\n",
    "* Create a `Dataset` object from the tensors.\n",
    "* Create a `DataLoader` object from the `Dataset` object.\n",
    "\n",
    "Look at the example below to see how to use the `DataLoader` class.\n",
    "\n"
   ],
   "id": "50242bd61635cd3f"
  },
  {
   "metadata": {
    "ExecuteTime": {
     "end_time": "2025-01-19T17:39:20.073846Z",
     "start_time": "2025-01-19T17:39:19.211692Z"
    }
   },
   "cell_type": "code",
   "source": [
    "import torch\n",
    "import pandas as pd\n",
    "import seaborn as sns\n",
    "from torch.utils.data import DataLoader\n",
    "import sklearn\n",
    "\n",
    "df = pd.read_csv('data/synthetic-data.csv') # load the data"
   ],
   "id": "38e63c6c8f057b53",
   "outputs": [],
   "execution_count": 47
  },
  {
   "metadata": {
    "ExecuteTime": {
     "end_time": "2025-01-19T17:39:22.219858Z",
     "start_time": "2025-01-19T17:39:21.988643Z"
    }
   },
   "cell_type": "code",
   "source": [
    "# take a look at the data - we will train the model to predict y from x\n",
    "sns.scatterplot(data=df, x='x', y='y')"
   ],
   "id": "29293be2dd338c27",
   "outputs": [
    {
     "data": {
      "text/plain": [
       "<Axes: xlabel='x', ylabel='y'>"
      ]
     },
     "execution_count": 48,
     "metadata": {},
     "output_type": "execute_result"
    },
    {
     "data": {
      "text/plain": [
       "<Figure size 640x480 with 1 Axes>"
      ],
      "image/png": "[encoded data removed]"
     },
     "metadata": {},
     "output_type": "display_data"
    }
   ],
   "execution_count": 48
  },
  {
   "metadata": {
    "ExecuteTime": {
     "end_time": "2025-01-19T17:39:26.038395Z",
     "start_time": "2025-01-19T17:39:25.280351Z"
    }
   },
   "cell_type": "code",
   "source": [
    "X = torch.tensor(df['x'], dtype=torch.float32).reshape(-1, 1) # convert the features to a tensor\n",
    "y = torch.tensor(df['y'], dtype=torch.float32).reshape(-1, 1) # convert the target to a tensor\n",
    "\n",
    "dataset = torch.utils.data.TensorDataset(X, y)  # create a dataset object\n",
    "train, val = sklearn.model_selection.train_test_split(dataset, test_size=0.2)# split the dataset into training and validation sets\n",
    "\n",
    "train_loader = DataLoader(train, batch_size=16, shuffle=True)\n",
    "val_loader = DataLoader(val, batch_size=16, shuffle=False)\n",
    "\n",
    "print(f'Train batches: {len(train_loader)}')\n",
    "print(f'Validation batches: {len(val_loader)}')"
   ],
   "id": "dbb89d8ce89e83d2",
   "outputs": [
    {
     "name": "stdout",
     "output_type": "stream",
     "text": [
      "Train batches: 10\n",
      "Validation batches: 3\n"
     ]
    }
   ],
   "execution_count": 49
  },
  {
   "metadata": {
    "ExecuteTime": {
     "end_time": "2025-01-19T17:39:27.791231Z",
     "start_time": "2025-01-19T17:39:27.779171Z"
    }
   },
   "cell_type": "code",
   "source": [
    "# we can iterate over the dataloader to see how it works\n",
    "\n",
    "X, y = next(iter(train_loader))\n",
    "\n",
    "print(\"X is a tensor of shape:\", X.shape)\n",
    "print(\"y is a tensor of shape:\", y.shape)"
   ],
   "id": "6acb2ca1dfb7b493",
   "outputs": [
    {
     "name": "stdout",
     "output_type": "stream",
     "text": [
      "X is a tensor of shape: torch.Size([16, 1])\n",
      "y is a tensor of shape: torch.Size([16, 1])\n"
     ]
    }
   ],
   "execution_count": 50
  },
  {
   "metadata": {
    "ExecuteTime": {
     "end_time": "2025-01-19T17:39:29.901399Z",
     "start_time": "2025-01-19T17:39:29.889100Z"
    }
   },
   "cell_type": "code",
   "source": [
    "# training loop\n",
    "\n",
    "def train(model, train_loader, val_loader, epochs=100):\n",
    "    \n",
    "    optimizer = torch.optim.Adam(model.parameters(), lr=0.001)\n",
    "    loss = nn.MSELoss()\n",
    "    \n",
    "    train_loss_history = []\n",
    "    val_loss_history = []\n",
    "    \n",
    "    for epoch in range(epochs):\n",
    "        model.train()   # set the model to training mode (some layers may behave differently in training and evaluation)\n",
    "        train_loss = 0  # this variable will accumulate the training loss\n",
    "        \n",
    "        for X_batch, y_batch in train_loader:   # load data batch-by-batch\n",
    "            \n",
    "            optimizer.zero_grad()   # clear the gradients\n",
    "            y_pred = model(X_batch)  # forward pass\n",
    "            batch_loss = loss(y_pred, y_batch) # compute the loss\n",
    "            batch_loss.backward()   # compute the gradients\n",
    "            optimizer.step()    # update the weights\n",
    "            \n",
    "            train_loss += batch_loss.item() # accumulate training loss\n",
    "        \n",
    "        train_loss = train_loss / len(train_loader) # compute the average loss\n",
    "        train_loss_history.append(train_loss)   # save the loss for plotting\n",
    "        print(f'Epoch: {epoch}')\n",
    "        print(f'Train loss: {train_loss}')\n",
    "                  \n",
    "        model.eval()    # set the model to evaluation mode\n",
    "        val_loss = 0    # this variable will accumulate the validation loss\n",
    "        \n",
    "        for X_batch, y_batch in val_loader:\n",
    "            \n",
    "            y_pred = model(X_batch)\n",
    "            val_loss += loss(y_pred, y_batch).item()    # accumulate validation loss\n",
    "            \n",
    "        val_loss = val_loss / len(val_loader)\n",
    "        val_loss_history.append(val_loss)   # save the loss for plotting\n",
    "        print(f'Validation loss: {val_loss}')\n",
    "        \n",
    "    return model, train_loss_history, val_loss_history"
   ],
   "id": "394c1ce88a84cb34",
   "outputs": [],
   "execution_count": 51
  },
  {
   "metadata": {
    "ExecuteTime": {
     "end_time": "2025-01-19T17:39:40.756191Z",
     "start_time": "2025-01-19T17:39:33.084793Z"
    }
   },
   "cell_type": "code",
   "source": [
    "# initialize and train the model\n",
    "\n",
    "model = NeuralNetwork(hidden_size=64)\n",
    "\n",
    "model, train_metrics, val_metrics = train(model, train_loader, val_loader)"
   ],
   "id": "5cf9ba58a910633a",
   "outputs": [
    {
     "name": "stdout",
     "output_type": "stream",
     "text": [
      "Epoch: 0\n",
      "Train loss: 1.6404017329216003\n",
      "Validation loss: 1.2792019248008728\n",
      "Epoch: 1\n",
      "Train loss: 1.341143923997879\n",
      "Validation loss: 1.0385339856147766\n",
      "Epoch: 2\n",
      "Train loss: 1.1344820976257324\n",
      "Validation loss: 0.8543020884195963\n",
      "Epoch: 3\n",
      "Train loss: 0.9660967767238617\n",
      "Validation loss: 0.7320894996325175\n",
      "Epoch: 4\n",
      "Train loss: 0.8378252148628235\n",
      "Validation loss: 0.6524594028790792\n",
      "Epoch: 5\n",
      "Train loss: 0.7498589336872101\n",
      "Validation loss: 0.5992695788542429\n",
      "Epoch: 6\n",
      "Train loss: 0.6834170281887054\n",
      "Validation loss: 0.5702130794525146\n",
      "Epoch: 7\n",
      "Train loss: 0.6360310196876526\n",
      "Validation loss: 0.5524350702762604\n",
      "Epoch: 8\n",
      "Train loss: 0.5952597469091415\n",
      "Validation loss: 0.54998912413915\n",
      "Epoch: 9\n",
      "Train loss: 0.5739911615848541\n",
      "Validation loss: 0.5503147840499878\n",
      "Epoch: 10\n",
      "Train loss: 0.5578895717859268\n",
      "Validation loss: 0.5491558909416199\n",
      "Epoch: 11\n",
      "Train loss: 0.5444644838571548\n",
      "Validation loss: 0.5529723564783732\n",
      "Epoch: 12\n",
      "Train loss: 0.5373596012592315\n",
      "Validation loss: 0.5589718421300253\n",
      "Epoch: 13\n",
      "Train loss: 0.5309986740350723\n",
      "Validation loss: 0.5613009929656982\n",
      "Epoch: 14\n",
      "Train loss: 0.5264185249805451\n",
      "Validation loss: 0.5608413020769755\n",
      "Epoch: 15\n",
      "Train loss: 0.523626047372818\n",
      "Validation loss: 0.5635244448979696\n",
      "Epoch: 16\n",
      "Train loss: 0.5196395963430405\n",
      "Validation loss: 0.5593360662460327\n",
      "Epoch: 17\n",
      "Train loss: 0.5171002805233001\n",
      "Validation loss: 0.5621607700983683\n",
      "Epoch: 18\n",
      "Train loss: 0.5137440025806427\n",
      "Validation loss: 0.5580820441246033\n",
      "Epoch: 19\n",
      "Train loss: 0.5109459817409515\n",
      "Validation loss: 0.5593193968137106\n",
      "Epoch: 20\n",
      "Train loss: 0.5078156992793084\n",
      "Validation loss: 0.5579709609349569\n",
      "Epoch: 21\n",
      "Train loss: 0.5061382710933685\n",
      "Validation loss: 0.5560993353525797\n",
      "Epoch: 22\n",
      "Train loss: 0.5028469413518906\n",
      "Validation loss: 0.5559590657552084\n",
      "Epoch: 23\n",
      "Train loss: 0.5011151880025864\n",
      "Validation loss: 0.5572920838991801\n",
      "Epoch: 24\n",
      "Train loss: 0.49710082560777663\n",
      "Validation loss: 0.5486701329549154\n",
      "Epoch: 25\n",
      "Train loss: 0.4938196212053299\n",
      "Validation loss: 0.5456583102544149\n",
      "Epoch: 26\n",
      "Train loss: 0.492653426527977\n",
      "Validation loss: 0.5399966239929199\n",
      "Epoch: 27\n",
      "Train loss: 0.48791365325450897\n",
      "Validation loss: 0.5438621640205383\n",
      "Epoch: 28\n",
      "Train loss: 0.4853461071848869\n",
      "Validation loss: 0.5383931001027426\n",
      "Epoch: 29\n",
      "Train loss: 0.48069564402103426\n",
      "Validation loss: 0.5368080139160156\n",
      "Epoch: 30\n",
      "Train loss: 0.47744509726762774\n",
      "Validation loss: 0.5325897137324015\n",
      "Epoch: 31\n",
      "Train loss: 0.4751093119382858\n",
      "Validation loss: 0.5302408536275228\n",
      "Epoch: 32\n",
      "Train loss: 0.46994069814682005\n",
      "Validation loss: 0.5279092590014139\n",
      "Epoch: 33\n",
      "Train loss: 0.4665436059236526\n",
      "Validation loss: 0.5291698376337687\n",
      "Epoch: 34\n",
      "Train loss: 0.4634776055812836\n",
      "Validation loss: 0.5268202324708303\n",
      "Epoch: 35\n",
      "Train loss: 0.458928707242012\n",
      "Validation loss: 0.5159343282381693\n",
      "Epoch: 36\n",
      "Train loss: 0.4544006511569023\n",
      "Validation loss: 0.5151652793089548\n",
      "Epoch: 37\n",
      "Train loss: 0.45091732442378996\n",
      "Validation loss: 0.5030912856260935\n",
      "Epoch: 38\n",
      "Train loss: 0.4450860291719437\n",
      "Validation loss: 0.5060856839021047\n",
      "Epoch: 39\n",
      "Train loss: 0.442050901055336\n",
      "Validation loss: 0.5039645830790201\n",
      "Epoch: 40\n",
      "Train loss: 0.4366681158542633\n",
      "Validation loss: 0.49394644300142926\n",
      "Epoch: 41\n",
      "Train loss: 0.43196372091770174\n",
      "Validation loss: 0.4898863732814789\n",
      "Epoch: 42\n",
      "Train loss: 0.4280771791934967\n",
      "Validation loss: 0.4823030432065328\n",
      "Epoch: 43\n",
      "Train loss: 0.4228172659873962\n",
      "Validation loss: 0.4872616430123647\n",
      "Epoch: 44\n",
      "Train loss: 0.41945914924144745\n",
      "Validation loss: 0.4878154893716176\n",
      "Epoch: 45\n",
      "Train loss: 0.41455256640911103\n",
      "Validation loss: 0.4799325366814931\n",
      "Epoch: 46\n",
      "Train loss: 0.41153503209352493\n",
      "Validation loss: 0.4802125096321106\n",
      "Epoch: 47\n",
      "Train loss: 0.40816603749990465\n",
      "Validation loss: 0.471324344476064\n",
      "Epoch: 48\n",
      "Train loss: 0.4062037944793701\n",
      "Validation loss: 0.4689268370469411\n",
      "Epoch: 49\n",
      "Train loss: 0.39979237467050555\n",
      "Validation loss: 0.46269574761390686\n",
      "Epoch: 50\n",
      "Train loss: 0.39562591910362244\n",
      "Validation loss: 0.4655298590660095\n",
      "Epoch: 51\n",
      "Train loss: 0.391413950920105\n",
      "Validation loss: 0.4670018156369527\n",
      "Epoch: 52\n",
      "Train loss: 0.3890398323535919\n",
      "Validation loss: 0.45929740866025287\n",
      "Epoch: 53\n",
      "Train loss: 0.3851854979991913\n",
      "Validation loss: 0.45529521505037945\n",
      "Epoch: 54\n",
      "Train loss: 0.382645221054554\n",
      "Validation loss: 0.45457051197687787\n",
      "Epoch: 55\n",
      "Train loss: 0.3775594711303711\n",
      "Validation loss: 0.454128623008728\n",
      "Epoch: 56\n",
      "Train loss: 0.37464532256126404\n",
      "Validation loss: 0.44569432735443115\n",
      "Epoch: 57\n",
      "Train loss: 0.3708317056298256\n",
      "Validation loss: 0.44165025154749554\n",
      "Epoch: 58\n",
      "Train loss: 0.3688082665205002\n",
      "Validation loss: 0.45031405488650006\n",
      "Epoch: 59\n",
      "Train loss: 0.3655596047639847\n",
      "Validation loss: 0.43924927711486816\n",
      "Epoch: 60\n",
      "Train loss: 0.3609689623117447\n",
      "Validation loss: 0.4377957185109456\n",
      "Epoch: 61\n",
      "Train loss: 0.359433987736702\n",
      "Validation loss: 0.4422505795955658\n",
      "Epoch: 62\n",
      "Train loss: 0.35464430004358294\n",
      "Validation loss: 0.43099730213483173\n",
      "Epoch: 63\n",
      "Train loss: 0.35179909914731977\n",
      "Validation loss: 0.4287254710992177\n",
      "Epoch: 64\n",
      "Train loss: 0.34899021089077\n",
      "Validation loss: 0.4282435377438863\n",
      "Epoch: 65\n",
      "Train loss: 0.3461797311902046\n",
      "Validation loss: 0.4233087698618571\n",
      "Epoch: 66\n",
      "Train loss: 0.3428628742694855\n",
      "Validation loss: 0.419171005487442\n",
      "Epoch: 67\n",
      "Train loss: 0.34046817421913145\n",
      "Validation loss: 0.4176797767480214\n",
      "Epoch: 68\n",
      "Train loss: 0.33703243136405947\n",
      "Validation loss: 0.41913706064224243\n",
      "Epoch: 69\n",
      "Train loss: 0.33459835648536684\n",
      "Validation loss: 0.41770894328753155\n",
      "Epoch: 70\n",
      "Train loss: 0.33368787318468096\n",
      "Validation loss: 0.418247918287913\n",
      "Epoch: 71\n",
      "Train loss: 0.3299732655286789\n",
      "Validation loss: 0.4017358024915059\n",
      "Epoch: 72\n",
      "Train loss: 0.3299944818019867\n",
      "Validation loss: 0.4135073920090993\n",
      "Epoch: 73\n",
      "Train loss: 0.3243330121040344\n",
      "Validation loss: 0.4062759776910146\n",
      "Epoch: 74\n",
      "Train loss: 0.3220890074968338\n",
      "Validation loss: 0.40045904119809467\n",
      "Epoch: 75\n",
      "Train loss: 0.318721179664135\n",
      "Validation loss: 0.39609865347544354\n",
      "Epoch: 76\n",
      "Train loss: 0.3167928621172905\n",
      "Validation loss: 0.3953453004360199\n",
      "Epoch: 77\n",
      "Train loss: 0.3142180904746056\n",
      "Validation loss: 0.4006737172603607\n",
      "Epoch: 78\n",
      "Train loss: 0.3121706426143646\n",
      "Validation loss: 0.39382705092430115\n",
      "Epoch: 79\n",
      "Train loss: 0.3111084848642349\n",
      "Validation loss: 0.3901945849259694\n",
      "Epoch: 80\n",
      "Train loss: 0.3063596084713936\n",
      "Validation loss: 0.39607617259025574\n",
      "Epoch: 81\n",
      "Train loss: 0.30572252422571183\n",
      "Validation loss: 0.39697715640068054\n",
      "Epoch: 82\n",
      "Train loss: 0.3033409401774406\n",
      "Validation loss: 0.3865024944146474\n",
      "Epoch: 83\n",
      "Train loss: 0.3005163371562958\n",
      "Validation loss: 0.38368932406107586\n",
      "Epoch: 84\n",
      "Train loss: 0.2979607120156288\n",
      "Validation loss: 0.3852703770001729\n",
      "Epoch: 85\n",
      "Train loss: 0.2962964430451393\n",
      "Validation loss: 0.38434796531995136\n",
      "Epoch: 86\n",
      "Train loss: 0.29542384296655655\n",
      "Validation loss: 0.3822643955548604\n",
      "Epoch: 87\n",
      "Train loss: 0.29296635687351225\n",
      "Validation loss: 0.37848420937856037\n",
      "Epoch: 88\n",
      "Train loss: 0.2907856523990631\n",
      "Validation loss: 0.37019771337509155\n",
      "Epoch: 89\n",
      "Train loss: 0.2891093283891678\n",
      "Validation loss: 0.3726883331934611\n",
      "Epoch: 90\n",
      "Train loss: 0.28586489856243136\n",
      "Validation loss: 0.3686488966147105\n",
      "Epoch: 91\n",
      "Train loss: 0.28454204052686694\n",
      "Validation loss: 0.37037841478983563\n",
      "Epoch: 92\n",
      "Train loss: 0.28235306292772294\n",
      "Validation loss: 0.36501477162043255\n",
      "Epoch: 93\n",
      "Train loss: 0.281208673119545\n",
      "Validation loss: 0.3707264761130015\n",
      "Epoch: 94\n",
      "Train loss: 0.27943364083766936\n",
      "Validation loss: 0.3634664714336395\n",
      "Epoch: 95\n",
      "Train loss: 0.2781375914812088\n",
      "Validation loss: 0.3589598437150319\n",
      "Epoch: 96\n",
      "Train loss: 0.2761126831173897\n",
      "Validation loss: 0.3688093225161235\n",
      "Epoch: 97\n",
      "Train loss: 0.273817366361618\n",
      "Validation loss: 0.3596508701642354\n",
      "Epoch: 98\n",
      "Train loss: 0.272453236579895\n",
      "Validation loss: 0.35877640048662823\n",
      "Epoch: 99\n",
      "Train loss: 0.2733502462506294\n",
      "Validation loss: 0.35894080996513367\n"
     ]
    }
   ],
   "execution_count": 52
  },
  {
   "metadata": {
    "ExecuteTime": {
     "end_time": "2025-01-19T17:39:43.179016Z",
     "start_time": "2025-01-19T17:39:42.941920Z"
    }
   },
   "cell_type": "code",
   "source": [
    "# plot the training and validation loss\n",
    "\n",
    "import matplotlib.pyplot as plt\n",
    "\n",
    "plot_df = pd.DataFrame({'epoch': range(1, len(train_metrics) + 1), \n",
    "                        'train_loss': train_metrics, \n",
    "                        'val_loss': val_metrics})\n",
    "\n",
    "sns.lineplot(data=plot_df, x='epoch', y='train_loss', label='train')\n",
    "sns.lineplot(data=plot_df, x='epoch', y='val_loss', label='validation')\n",
    "plt.xlabel('Epoch')\n",
    "plt.ylabel('MSE Loss')"
   ],
   "id": "23277dc5c673793c",
   "outputs": [
    {
     "data": {
      "text/plain": [
       "Text(0, 0.5, 'MSE Loss')"
      ]
     },
     "execution_count": 53,
     "metadata": {},
     "output_type": "execute_result"
    },
    {
     "data": {
      "text/plain": [
       "<Figure size 640x480 with 1 Axes>"
      ],
      "image/png": "[encoded data removed]"
     },
     "metadata": {},
     "output_type": "display_data"
    }
   ],
   "execution_count": 53
  },
  {
   "metadata": {
    "ExecuteTime": {
     "end_time": "2025-01-19T17:39:48.379117Z",
     "start_time": "2025-01-19T17:39:48.177190Z"
    }
   },
   "cell_type": "code",
   "source": [
    "# plot the model's predictions against the true values\n",
    "\n",
    "X = torch.tensor(df['x'], dtype=torch.float32).reshape(-1, 1)   # convert the features to a tensor\n",
    "y = model(X)    # get the model's predictions\n",
    "\n",
    "X = X.flatten().detach().numpy()    # convert the tensors back to numpy arrays\n",
    "y = y.flatten().detach().numpy()   \n",
    "\n",
    "plot_df = pd.DataFrame({'x': X, 'y': y})\n",
    "\n",
    "sns.set_style('white')\n",
    "sns.set_context('talk')\n",
    "\n",
    "sns.scatterplot(data=df, x='x', y='y', edgecolor='none') # plot training data\n",
    "sns.lineplot(data=plot_df, x='x', y='y', c='crimson', lw=3) # plot the model's predictions"
   ],
   "id": "19a74f77223944e7",
   "outputs": [
    {
     "data": {
      "text/plain": [
       "<Axes: xlabel='x', ylabel='y'>"
      ]
     },
     "execution_count": 54,
     "metadata": {},
     "output_type": "execute_result"
    },
    {
     "data": {
      "text/plain": [
       "<Figure size 640x480 with 1 Axes>"
      ],
      "image/png": "[encoded data removed]"
     },
     "metadata": {},
     "output_type": "display_data"
    }
   ],
   "execution_count": 54
  },
  {
   "metadata": {},
   "cell_type": "markdown",
   "source": [
    "## Overfitting\n",
    "\n",
    "Real-life data is usually noisy and contains patterns that are not relevant to the problem we are trying to solve. We do not want our model to learn these irrelevant patterns, as they will not generalize to unseen data. \n",
    "\n",
    "**Overfitting** occurs when the model learns to model noise in the training data instead of modeling the underlying phenomenon. This results in a model that performs **well on training data but poorly on validation or test data.**\n",
    "<center>\n",
    "<img src=\"imgs/overfitting.png\", width=\"600\">\n",
    "</center>\n",
    "<br>\n",
    "\n",
    "To reduce the chances of overfitting a neural network, we can do one of the following things, in the order from the least to the most problematic:\n",
    "* Reduce the complexity of the model (e.g., reduce the number of hidden layers or the number of neurons in each layer).\n",
    "* Regularize the model (e.g., add dropout layers or L2 regularization).\n",
    "* Collect more data for training.\n",
    "\n",
    "**L2 regularization**, also known as **Ridge**, is a method that adds the squared value of the weights to the loss function. This encourages the weights to be small and evenly distributed. L2 regularization is implemented in PyTorch as the `weight_decay` parameter in the optimizer. The `weight_decay` parameter is a positive number that multiplies the L2 norm of the weights and adds it to the loss function. This encourages the weights to be small, which helps to prevent overfitting.\n",
    "\n",
    "```python\n",
    "optimizer = torch.optim.Adam(model.parameters(), lr=0.001, weight_decay=0.01)\n",
    "```\n",
    "\n",
    "**Dropout layer** is a method that randomly **disables some neurons** in the network during training. This forces the network to learn redundant representations of the data. Dropout is implemented in PyTorch as a layer that you can add to your model.\n",
    "\n",
    "```python\n",
    "dropout = nn.Dropout(p=0.5) # p is the probability of dropping a neuron\n",
    "y = dropout(x)\n",
    "```"
   ],
   "id": "b9a7937971ff6c7c"
  }
 ],
 "metadata": {
  "kernelspec": {
   "display_name": "Python 3",
   "language": "python",
   "name": "python3"
  },
  "language_info": {
   "codemirror_mode": {
    "name": "ipython",
    "version": 2
   },
   "file_extension": ".py",
   "mimetype": "text/x-python",
   "name": "python",
   "nbconvert_exporter": "python",
   "pygments_lexer": "ipython2",
   "version": "2.7.6"
  }
 },
 "nbformat": 4,
 "nbformat_minor": 5
}
