{
 "cells": [
  {
   "cell_type": "markdown",
   "id": "2fa74fdef97c4cbb",
   "metadata": {},
   "source": [
    "# Lab 1: Python basics. Conway's Game of Life.\n",
    "\n",
    "In this notebook we will review some basic Python concepts. After getting familiar with Python data structures and functions, we will forge our skills by implementing a mesmerising simulation known as Conway's Game of Life.\n",
    "\n",
    "---\n",
    "\n",
    "## Reading - *Automate the Boring Stuff with Python*\n",
    "\n",
    "The Python textbook we will be referencing during our course will be *Automate the Boring Stuff with Python* by Al Sweigart, with a particular focus on chapters 1-12. The book is available online for free at:\n",
    "\n",
    "https://automatetheboringstuff.com/\n",
    "\n",
    "The website is structured in such a way that you can quickly find and study the topic you are interested in. You can use it as a reference during the course, having it open in a separate tab while you are working on your assignments. All the exercises below can be solved using the knowledge from the first few chapters of the book."
   ]
  },
  {
   "cell_type": "markdown",
   "id": "ce8c630a1e97b69e",
   "metadata": {},
   "source": [
    "## Exercise 1: Python data structures (1 point)\n",
    "\n",
    "1. Create a list `zeros` containing only **zeros**, with 32 elements.\n",
    "2. Create a list `odd` containing all **odd numbers** between 0 and 64.\n",
    "3. Create a table `eye` of size 8x8 (8 rows, 8 columns) with **ones** on the diagonal and **zeros** elsewhere. A table is implemented as a list of lists, where each **inner list represents a row** of the table. For example, a 2x2 table can be implemented as `[[1, 0], [0, 1]]`."
   ]
  },
  {
   "cell_type": "code",
   "execution_count": 36,
   "id": "f4431d3d5f95e3f7",
   "metadata": {},
   "outputs": [
    {
     "name": "stdout",
     "output_type": "stream",
     "text": [
      "[0, 0, 0, 0, 0, 0, 0, 0, 0, 0, 0, 0, 0, 0, 0, 0, 0, 0, 0, 0, 0, 0, 0, 0, 0, 0, 0, 0, 0, 0, 0, 0]\n"
     ]
    }
   ],
   "source": [
    "zeros = []\n",
    "for i in range(0, 32):\n",
    "   zeros.append(0)\n",
    "print(zeros)\n"
   ]
  },
  {
   "cell_type": "code",
   "id": "a464c1889039faec",
   "metadata": {
    "ExecuteTime": {
     "end_time": "2024-12-15T18:23:56.583560Z",
     "start_time": "2024-12-15T18:23:56.574771Z"
    }
   },
   "source": [
    "\n",
    "list(range(1,64,2))\n"
   ],
   "outputs": [
    {
     "name": "stdout",
     "output_type": "stream",
     "text": [
      "[1, 3, 5, 7, 9, 11, 13, 15, 17, 19, 21, 23, 25, 27, 29, 31, 33, 35, 37, 39, 41, 43, 45, 47, 49, 51, 53, 55, 57, 59, 61, 63]\n"
     ]
    },
    {
     "data": {
      "text/plain": [
       "'list(range(1,64,2))'"
      ]
     },
     "execution_count": 2,
     "metadata": {},
     "output_type": "execute_result"
    }
   ],
   "execution_count": 2
  },
  {
   "cell_type": "code",
   "id": "ac200a00626df11a",
   "metadata": {
    "ExecuteTime": {
     "end_time": "2024-12-15T18:26:33.202418Z",
     "start_time": "2024-12-15T18:26:33.180170Z"
    }
   },
   "source": [
    "eye = []\n",
    "for i in range(8):\n",
    "    li = 8*[0]\n",
    "    li[i] = 1\n",
    "    eye.append(li)\n",
    "\n",
    "eye"
   ],
   "outputs": [
    {
     "data": {
      "text/plain": [
       "[[1, 0, 0, 0, 0, 0, 0, 0],\n",
       " [0, 1, 0, 0, 0, 0, 0, 0],\n",
       " [0, 0, 1, 0, 0, 0, 0, 0],\n",
       " [0, 0, 0, 1, 0, 0, 0, 0],\n",
       " [0, 0, 0, 0, 1, 0, 0, 0],\n",
       " [0, 0, 0, 0, 0, 1, 0, 0],\n",
       " [0, 0, 0, 0, 0, 0, 1, 0],\n",
       " [0, 0, 0, 0, 0, 0, 0, 1]]"
      ]
     },
     "execution_count": 5,
     "metadata": {},
     "output_type": "execute_result"
    }
   ],
   "execution_count": 5
  },
  {
   "cell_type": "markdown",
   "id": "a6c73608930b5bbf",
   "metadata": {},
   "source": [
    "## Exercise 2: DNA transcription (1 points)\n",
    "\n",
    "Write a function that takes a DNA sequence (a string of characters) as input and returns a complementary RNA sequence (also a string)."
   ]
  },
  {
   "cell_type": "code",
   "id": "413b739b-633a-4a58-8a56-e8ef39a965cc",
   "metadata": {
    "ExecuteTime": {
     "end_time": "2024-12-15T18:27:08.005656Z",
     "start_time": "2024-12-15T18:27:08.000713Z"
    }
   },
   "source": "eye[1][0] #podaje drugi rząd a później pierwszy jego element",
   "outputs": [
    {
     "data": {
      "text/plain": [
       "0"
      ]
     },
     "execution_count": 6,
     "metadata": {},
     "output_type": "execute_result"
    }
   ],
   "execution_count": 6
  },
  {
   "cell_type": "code",
   "id": "7c45999756d343de",
   "metadata": {
    "ExecuteTime": {
     "end_time": "2024-12-15T18:30:01.151467Z",
     "start_time": "2024-12-15T18:30:01.146238Z"
    }
   },
   "source": [
    "\n",
    "def transcribe(dna):\n",
    "    rna=''\n",
    "    dictionary = {\n",
    "         'C': 'G',\n",
    "         'A': 'U',\n",
    "         'T': 'A',\n",
    "         'G':'C'\n",
    "       }\n",
    "    for x in dna:\n",
    "         rna+=dictionary[x]\n",
    "    return rna"
   ],
   "outputs": [],
   "execution_count": 13
  },
  {
   "cell_type": "code",
   "id": "1fe19d962e31e408",
   "metadata": {
    "ExecuteTime": {
     "end_time": "2024-12-15T18:30:02.753199Z",
     "start_time": "2024-12-15T18:30:02.747271Z"
    }
   },
   "source": [
    "# Test your function\n",
    "dna = \"CTTCACTTGTTATGCCCAGACATGGCAAAACTAATGACCAAGTAATGAGGGAATAGTAAT\"\n",
    "\n",
    "rna = transcribe(dna)\n",
    "rna"
   ],
   "outputs": [
    {
     "data": {
      "text/plain": [
       "'GAAGUGAACAAUACGGGUCUGUACCGUUUUGAUUACUGGUUCAUUACUCCCUUAUCAUUA'"
      ]
     },
     "execution_count": 14,
     "metadata": {},
     "output_type": "execute_result"
    }
   ],
   "execution_count": 14
  },
  {
   "cell_type": "code",
   "id": "887b076b0fd62718",
   "metadata": {
    "ExecuteTime": {
     "end_time": "2024-12-15T18:30:40.738090Z",
     "start_time": "2024-12-15T18:30:40.709875Z"
    }
   },
   "source": [
    "# Automatic testing\n",
    "from helpers.lab1 import test_transcription\n",
    "test_transcription(transcribe)"
   ],
   "outputs": [
    {
     "name": "stdout",
     "output_type": "stream",
     "text": [
      "Seems OK!\n"
     ]
    }
   ],
   "execution_count": 15
  },
  {
   "cell_type": "markdown",
   "id": "db742ddfad790f84",
   "metadata": {},
   "source": [
    "## Exercise 3: Python functions (2 points)\n",
    "In the code cell below, write Python code to solve the following tasks. For some of them, you may need to use functions from the [math module](https://docs.python.org/3/library/math.html) of the standard Python library. Make sure to test your functions by calling them with different input values.\n",
    "\n",
    "1. Write a function `get_median()` that takes a list of numbers (floats) as input and returns **the median** of the numbers. If the sample has an odd number of numbers, the median is the middle value. If the sample has an even number of numbers, the median is the arithmetic mean of the two middle values. The result should be rounded to 3 decimal places.\n",
    "2. Write a function `get_e()` which calculates the value of Euler's number $e$ using the following formula: \n",
    "    $$e = 1 + \\sum_{n=1}^{\\infty} \\frac{1}{n!} = 1 + (\\frac{1}{1} + \\frac{1}{1 \\cdot 2} + \\frac{1}{1 \\cdot 2 \\cdot 3} + \\ldots)$$\n",
    "    The function should take a parameter `terms`, determining how many terms of the sum are used for calculation. **If the parameter `terms` is not provided, the function should use 10 terms.**\n",
    "\n",
    "**Below each function definition, there is some automatic testing already implemented by me, so you can check if your functions work as expected.**"
   ]
  },
  {
   "cell_type": "code",
   "id": "2b91cd0e656387cc",
   "metadata": {
    "ExecuteTime": {
     "end_time": "2024-12-15T19:02:28.125650Z",
     "start_time": "2024-12-15T19:02:28.119442Z"
    }
   },
   "source": [
    "\n",
    "def get_median(list):\n",
    "\n",
    "    list.sort()\n",
    "    n = len(list)\n",
    "\n",
    "    if n % 2 == 0:  # If even number of elements\n",
    "        median = round((list[n // 2 - 1] + list[n // 2]) / 2, 2)\n",
    "    else:  # If odd number of elements\n",
    "        median = list[n // 2]\n",
    "\n",
    "    return median\n",
    "\n",
    "\n",
    "# Automatic testing\n",
    "from helpers.lab1 import test_median\n",
    "test_median(get_median)"
   ],
   "outputs": [
    {
     "name": "stdout",
     "output_type": "stream",
     "text": [
      "Seems OK!\n"
     ]
    }
   ],
   "execution_count": 37
  },
  {
   "cell_type": "code",
   "id": "e2114ed84f6195bf",
   "metadata": {
    "ExecuteTime": {
     "end_time": "2024-12-15T19:13:39.849169Z",
     "start_time": "2024-12-15T19:13:39.841047Z"
    }
   },
   "source": [
    "\n",
    "def get_e(terms=10):\n",
    "\n",
    "    from math import factorial\n",
    "    if terms == 0:\n",
    "       e = 0\n",
    "    else:\n",
    "       e = 1\n",
    "       for i in range(1, terms):\n",
    "          e += 1 / factorial(i)\n",
    "\n",
    "    return e\n",
    "# Automatic testing\n",
    "from helpers.lab1 import test_euler\n",
    "test_euler(get_e)"
   ],
   "outputs": [
    {
     "name": "stdout",
     "output_type": "stream",
     "text": [
      "Seems OK!\n"
     ]
    }
   ],
   "execution_count": 42
  },
  {
   "cell_type": "markdown",
   "id": "159a9c16d45bd2b",
   "metadata": {},
   "source": [
    "### *Python type hinting\n",
    "\n",
    "It is a good practice to use Python type hints when defining functions. Type hints are a way to specify the expected types of the function arguments and the return value. This can help you catch bugs early and make your code easier to understand. For example, the function `get_median` can be defined as follows:\n",
    "```python\n",
    "def get_median(numbers: list) -> float:\n",
    "    ...\n",
    "```\n",
    "Python ignores these type hints, so they do not affect the performance of your code. However, they are an elegant way to document your code and make it more readable. By just looking at the definition, you can quickly understand what the function does and what kind of arguments it expects, thus making it easier to include your functions in larger projects. You can read more about type hints in the [official Python documentation](https://docs.python.org/3/library/typing.html)."
   ]
  },
  {
   "cell_type": "markdown",
   "id": "3fb7cffc261ee59f",
   "metadata": {},
   "source": [
    "# Conway's Game of Life\n",
    "\n",
    "<center>\n",
    "<img src=\"imgs/john-conway.jpg\" width=\"470\"/>\n",
    "</center>\n",
    "\n",
    "</br>\n",
    "\n",
    "**Game of Life** is a cellular automaton devised by the British mathematician John Horton Conway in 1970. If you happen not to have heard of the Game of Life before, try it out yourself at [this website](https://playgameoflife.com/) and see what it is about. It's not a *game* in the traditional sense, because there are no players, rather a simulation of an evolving system (often referred to as a *zero-player game*).\n",
    "\n",
    "The universe of the Game of Life is a two-dimensional grid of squares (cells), each of which is in one of two possible states, live or dead (or 1 and 0). At each step in time, some cells are born, some die, and some stay the same, according to the following rules:\n",
    "\n",
    "1. A live cell with **fewer than two** live neighbors **dies** of underpopulation.\n",
    "2. A live cell with **two or three** live neighbors **lives** on to the next generation.\n",
    "3. A live cell with **more than three** live neighbors **dies** of overpopulation.\n",
    "4. A dead cell with **exactly three** live neighbors becomes a live cell as if by reproduction.\n",
    "\n",
    "The user is supposed to draw some initial configuration of live and dead cells and watch how the system evolves with time. Not all initial configurations of cells will lead to interesting results. Some will die out in a few time steps, but some will evolve into complex shapes with really cool properties. I highly encourage you to play around with the Game of Life yourself before we implement it in Pyhton.\n",
    "\n",
    "<center>\n",
    "<img src=\"imgs/glider.png\" width=\"600\"/>\n",
    "</center>\n",
    "\n",
    "</br>\n",
    "\n",
    "\n",
    "For example, the **glider** is a configuration that moves across the grid with each time step. The image above shows consecutive time steps of a glider, with black squares denoting live cells. **Note that after four steps the whole configuration has shifted one cell to the right and one cell down.**"
   ]
  },
  {
   "cell_type": "markdown",
   "id": "259f4c0ac5dd2f46",
   "metadata": {},
   "source": [
    "## Excercise 4: Implement the bord (4 points)\n",
    "Implement the Game of Life's board as a table of numbers. Live cells should be represented by 1 and dead cells by 0.\n",
    "\n",
    "1. Write a function `get_empty_board` that takes a number `n` and returns an empty board (a board of dead cells only) of size $n \\times n$. The board should be represented as a list of lists, where each inner list represents a row of the board. For example, a 3x3 board should be represented as `[[0, 0, 0], [0, 0, 0], [0, 0, 0]]`.\n",
    "\n",
    "2. Write a function `print_board` that takes a board and prints it to the console. The output should look something like this, but you can use any other characters to represent dead and live cells, as long as it is clear which is which:\n",
    "```\n",
    ". . . . .\n",
    ". . X . .\n",
    "X . X . .\n",
    ". X X . .\n",
    ". . . . .\n",
    "```"
   ]
  },
  {
   "cell_type": "code",
   "id": "62a61fbafba2189e",
   "metadata": {
    "ExecuteTime": {
     "end_time": "2024-12-15T19:51:33.859263Z",
     "start_time": "2024-12-15T19:51:33.851026Z"
    }
   },
   "source": [
    "def get_empty_board(n): # return n x n table of dead cells (a list of lists)\n",
    "    board = []\n",
    "    for i in range(n):\n",
    "       board.append([0]*n)\n",
    "    return board\n",
    "\n",
    "\n",
    "def print_board(board): # print the table\n",
    "    for row in board:\n",
    "          print(row)\n"
   ],
   "outputs": [],
   "execution_count": 99
  },
  {
   "cell_type": "code",
   "id": "ed16bde6adbe21ef",
   "metadata": {
    "scrolled": true,
    "ExecuteTime": {
     "end_time": "2024-12-15T19:51:35.607592Z",
     "start_time": "2024-12-15T19:51:35.599733Z"
    }
   },
   "source": [
    "# Test your functions\n",
    "board = get_empty_board(10)\n",
    "print_board(board)"
   ],
   "outputs": [
    {
     "name": "stdout",
     "output_type": "stream",
     "text": [
      "[0, 0, 0, 0, 0, 0, 0, 0, 0, 0]\n",
      "[0, 0, 0, 0, 0, 0, 0, 0, 0, 0]\n",
      "[0, 0, 0, 0, 0, 0, 0, 0, 0, 0]\n",
      "[0, 0, 0, 0, 0, 0, 0, 0, 0, 0]\n",
      "[0, 0, 0, 0, 0, 0, 0, 0, 0, 0]\n",
      "[0, 0, 0, 0, 0, 0, 0, 0, 0, 0]\n",
      "[0, 0, 0, 0, 0, 0, 0, 0, 0, 0]\n",
      "[0, 0, 0, 0, 0, 0, 0, 0, 0, 0]\n",
      "[0, 0, 0, 0, 0, 0, 0, 0, 0, 0]\n",
      "[0, 0, 0, 0, 0, 0, 0, 0, 0, 0]\n"
     ]
    }
   ],
   "execution_count": 100
  },
  {
   "cell_type": "markdown",
   "id": "4fd09ba446153b4d",
   "metadata": {},
   "source": [
    "3. Write a function `get_random_board` that takes a number `n` and returns a board of size $n \\times n$ filled randomly with live and dead cells. You can use the `random` module from Python's standard library. The probability of a cell being alive should passed as an argument `p` to the function and default to $0.2$."
   ]
  },
  {
   "cell_type": "code",
   "id": "dd04dcb8-a6ae-4f4a-a7cd-95b8c7aaf4f3",
   "metadata": {
    "ExecuteTime": {
     "end_time": "2024-12-15T19:51:37.584408Z",
     "start_time": "2024-12-15T19:51:37.578889Z"
    }
   },
   "source": [
    "import random \n",
    "\n",
    "def get_random_board(n, p=0.2): # return n x n table where each cell is alive with probability 0.2\n",
    "   board=[]\n",
    "   for i in range(n):\n",
    "      row=[]\n",
    "      for j in range(n):\n",
    "\n",
    "         random_number = random.random() # this is how you draw a random number between 0 and 1\n",
    "\n",
    "         if random_number > p:\n",
    "           row.append(0)\n",
    "         else:\n",
    "           row.append(1)\n",
    "      board.append(row)\n",
    "   return board\n",
    "    \n",
    "def print_board(board): # print the table\n",
    "    for row in board:\n",
    "          print(row)\n",
    "        \n"
   ],
   "outputs": [],
   "execution_count": 101
  },
  {
   "cell_type": "code",
   "id": "54d2337dd3989a11",
   "metadata": {
    "ExecuteTime": {
     "end_time": "2024-12-15T19:51:39.685525Z",
     "start_time": "2024-12-15T19:51:39.680010Z"
    }
   },
   "source": [
    "random_board = get_random_board(10)\n",
    "print_board(random_board)"
   ],
   "outputs": [
    {
     "name": "stdout",
     "output_type": "stream",
     "text": [
      "[0, 0, 1, 0, 0, 1, 0, 1, 0, 0]\n",
      "[0, 0, 1, 0, 0, 0, 0, 0, 1, 0]\n",
      "[0, 0, 0, 0, 0, 0, 1, 0, 0, 0]\n",
      "[0, 0, 0, 0, 0, 0, 0, 1, 0, 1]\n",
      "[0, 0, 0, 1, 0, 0, 0, 1, 0, 0]\n",
      "[1, 0, 0, 1, 0, 0, 0, 0, 0, 0]\n",
      "[1, 0, 0, 0, 0, 1, 1, 0, 0, 0]\n",
      "[1, 1, 0, 0, 1, 0, 0, 0, 1, 0]\n",
      "[0, 0, 0, 0, 1, 0, 0, 0, 0, 1]\n",
      "[0, 0, 0, 0, 0, 0, 0, 0, 0, 0]\n"
     ]
    }
   ],
   "execution_count": 102
  },
  {
   "cell_type": "markdown",
   "id": "9fcf8a620826c240",
   "metadata": {},
   "source": [
    "4. Write a function which takes a board and puts a glider in the top left corner of the board. You can assume that the board is at least 3x3. You can choose the first glider configuration from the image above as the initial state."
   ]
  },
  {
   "cell_type": "code",
   "id": "1c8a6631f5b583d0",
   "metadata": {
    "ExecuteTime": {
     "end_time": "2024-12-15T19:51:41.368130Z",
     "start_time": "2024-12-15T19:51:41.363754Z"
    }
   },
   "source": [
    "def add_glider(board):\n",
    "    glider = [\n",
    "        [0, 0, 1],\n",
    "        [1, 0, 1],\n",
    "        [0, 1, 1]\n",
    "    ]\n",
    "    for x in range(3):\n",
    "        for y in range(3):\n",
    "            board[x][y] = glider[x][y]\n",
    "    \n",
    "    return board"
   ],
   "outputs": [],
   "execution_count": 103
  },
  {
   "cell_type": "code",
   "id": "46c50ac0fb6d0b22",
   "metadata": {
    "ExecuteTime": {
     "end_time": "2024-12-15T19:51:42.726240Z",
     "start_time": "2024-12-15T19:51:42.720628Z"
    }
   },
   "source": [
    "# Test your function\n",
    "board = get_empty_board(10)\n",
    "glider_board = add_glider(board)\n",
    "\n",
    "print_board(glider_board)"
   ],
   "outputs": [
    {
     "name": "stdout",
     "output_type": "stream",
     "text": [
      "[0, 0, 1, 0, 0, 0, 0, 0, 0, 0]\n",
      "[1, 0, 1, 0, 0, 0, 0, 0, 0, 0]\n",
      "[0, 1, 1, 0, 0, 0, 0, 0, 0, 0]\n",
      "[0, 0, 0, 0, 0, 0, 0, 0, 0, 0]\n",
      "[0, 0, 0, 0, 0, 0, 0, 0, 0, 0]\n",
      "[0, 0, 0, 0, 0, 0, 0, 0, 0, 0]\n",
      "[0, 0, 0, 0, 0, 0, 0, 0, 0, 0]\n",
      "[0, 0, 0, 0, 0, 0, 0, 0, 0, 0]\n",
      "[0, 0, 0, 0, 0, 0, 0, 0, 0, 0]\n",
      "[0, 0, 0, 0, 0, 0, 0, 0, 0, 0]\n"
     ]
    }
   ],
   "execution_count": 104
  },
  {
   "cell_type": "markdown",
   "id": "67e973d85bd739af",
   "metadata": {},
   "source": [
    "## Excercise 5: Count neighbors and update board (2 points)\n",
    "1. Write a function `count_live_neighbors` that takes a board and coordinates of a cell, then it returns the number of live neighbors of the cell at that position. You can test your function on the glider board. \n",
    "\n",
    "**Please note that special care should be taken when counting the neighbors of cells at the edge of the board** - for simplicity, we will assume that the board is finite and that cells at the edge have fewer neighbors than cells in the middle of the board (the cells outside our predefined board are always dead)."
   ]
  },
  {
   "cell_type": "code",
   "id": "8191ce8b9552afab",
   "metadata": {
    "ExecuteTime": {
     "end_time": "2024-12-15T19:51:46.075262Z",
     "start_time": "2024-12-15T19:51:46.067404Z"
    }
   },
   "source": [
    "def count_live_neighbours(board, x, y): # return the number of live neighbors of cell x, y\n",
    "    sum = 0\n",
    "    for i in [x-1, x, x+1]:\n",
    "       for j in [y-1, y, y+1]:\n",
    "           if i == x and j == y:\n",
    "               continue\n",
    "           if 0 <= i < len(board) and 0 <= j < len(board):\n",
    "              sum += board[i][j]\n",
    "\n",
    "    return sum"
   ],
   "outputs": [],
   "execution_count": 105
  },
  {
   "cell_type": "code",
   "id": "2c7ea91d7488b97a",
   "metadata": {
    "ExecuteTime": {
     "end_time": "2024-12-15T19:51:47.612358Z",
     "start_time": "2024-12-15T19:51:47.606528Z"
    }
   },
   "source": [
    "# Test your function\n",
    "count_live_neighbours(glider_board, 1, 1)    # should return 5, as it is the center of the glider"
   ],
   "outputs": [
    {
     "data": {
      "text/plain": [
       "5"
      ]
     },
     "execution_count": 106,
     "metadata": {},
     "output_type": "execute_result"
    }
   ],
   "execution_count": 106
  },
  {
   "cell_type": "markdown",
   "id": "e8b31c5651cc5339",
   "metadata": {},
   "source": [
    "2. **Write a function that takes a board and returns new board at the next timestep according to the rules of the Game of Life.** This function should not modify the original board, but return a new one. This is the final component for a working Game of Life in Python."
   ]
  },
  {
   "cell_type": "code",
   "id": "2e84c93ed636714",
   "metadata": {
    "ExecuteTime": {
     "end_time": "2024-12-15T19:57:45.585542Z",
     "start_time": "2024-12-15T19:57:45.572338Z"
    }
   },
   "source": [
    "def step(board): # return board at the next timestep\n",
    "    n = len(board) #zwraca długość listy\n",
    "    new_board = get_empty_board(n)\n",
    "\n",
    "    for i in range(n):\n",
    "        for j in range(n):\n",
    "            neigh = count_live_neighbours(board, i, j)\n",
    "            if board[i][j] == 1:\n",
    "                if neigh in [2, 3]:\n",
    "                    new_board[i][j] = 1\n",
    "                else:\n",
    "                    new_board[i][j] = 0\n",
    "            else:\n",
    "                if neigh == 3:\n",
    "                    new_board[i][j] = 1\n",
    "    return new_board"
   ],
   "outputs": [],
   "execution_count": 121
  },
  {
   "cell_type": "code",
   "id": "33d0b1dfd4b56bfd",
   "metadata": {
    "ExecuteTime": {
     "end_time": "2024-12-15T19:57:47.121643Z",
     "start_time": "2024-12-15T19:57:47.116555Z"
    }
   },
   "source": [
    "# Test your function\n",
    "print(\"Initial state:\")\n",
    "print_board(glider_board)\n",
    "next_step = step(glider_board)\n",
    "\n",
    "print(\"1st step:\")\n",
    "print_board(next_step)"
   ],
   "outputs": [
    {
     "name": "stdout",
     "output_type": "stream",
     "text": [
      "Initial state:\n",
      "[0, 0, 1, 0, 0, 0, 0, 0, 0, 0]\n",
      "[1, 0, 1, 0, 0, 0, 0, 0, 0, 0]\n",
      "[0, 1, 1, 0, 0, 0, 0, 0, 0, 0]\n",
      "[0, 0, 0, 0, 0, 0, 0, 0, 0, 0]\n",
      "[0, 0, 0, 0, 0, 0, 0, 0, 0, 0]\n",
      "[0, 0, 0, 0, 0, 0, 0, 0, 0, 0]\n",
      "[0, 0, 0, 0, 0, 0, 0, 0, 0, 0]\n",
      "[0, 0, 0, 0, 0, 0, 0, 0, 0, 0]\n",
      "[0, 0, 0, 0, 0, 0, 0, 0, 0, 0]\n",
      "[0, 0, 0, 0, 0, 0, 0, 0, 0, 0]\n",
      "1st step:\n",
      "[0, 1, 0, 0, 0, 0, 0, 0, 0, 0]\n",
      "[0, 0, 1, 1, 0, 0, 0, 0, 0, 0]\n",
      "[0, 1, 1, 0, 0, 0, 0, 0, 0, 0]\n",
      "[0, 0, 0, 0, 0, 0, 0, 0, 0, 0]\n",
      "[0, 0, 0, 0, 0, 0, 0, 0, 0, 0]\n",
      "[0, 0, 0, 0, 0, 0, 0, 0, 0, 0]\n",
      "[0, 0, 0, 0, 0, 0, 0, 0, 0, 0]\n",
      "[0, 0, 0, 0, 0, 0, 0, 0, 0, 0]\n",
      "[0, 0, 0, 0, 0, 0, 0, 0, 0, 0]\n",
      "[0, 0, 0, 0, 0, 0, 0, 0, 0, 0]\n"
     ]
    }
   ],
   "execution_count": 122
  },
  {
   "cell_type": "markdown",
   "id": "7cfad837e1ddbdf9",
   "metadata": {},
   "source": [
    "### Animate the Game of Life!\n",
    "\n",
    "If you successfully implemented the Game of Life, you can try to put it in a loop and animate it. The loop should print the board, wait for a second, generate the next step, and repeat. You can use the `time` module from Python's standard library to wait for a second between each step. IPython has a built-in function `clear_output` that can be used to clear the output of a cell in a Jupyter notebook - so you can print the board in the same cell, and it will look like it is being updated.\n",
    "\n",
    "The code below should animate a glider moving across the board if you implemented everything correctly! **Make sure to see how a random board evolves as well - it can be quite mesmerizing!**"
   ]
  },
  {
   "cell_type": "code",
   "id": "4131f5d8689ad699",
   "metadata": {},
   "source": [
    "from IPython.display import clear_output\n",
    "import time\n",
    "\n",
    "#board = get_random_board(10)\n",
    "board = get_empty_board(10)\n",
    "board = add_glider(board) # add a glider to the board\n",
    "\n",
    "for _ in range(20):    # run for 20 steps\n",
    "    clear_output(wait=False)    # clear the output\n",
    "    print_board(board)          # print the board\n",
    "    time.sleep(0.5)               # wait for half a second\n",
    "    new_board = step(board)     # generate the next step\n",
    "    board = new_board           # update the board"
   ],
   "execution_count": 123,
   "outputs": [
    {
     "name": "stdout",
     "output_type": "stream",
     "text": [
      "[0, 0, 0, 0, 0, 0, 0, 0, 0, 0]\n",
      "[0, 0, 0, 0, 0, 0, 0, 0, 0, 0]\n",
      "[0, 0, 0, 0, 0, 0, 0, 0, 0, 0]\n",
      "[0, 0, 0, 0, 0, 0, 0, 0, 0, 0]\n",
      "[0, 0, 0, 0, 0, 0, 0, 0, 0, 0]\n",
      "[0, 0, 0, 0, 0, 1, 0, 1, 0, 0]\n",
      "[0, 0, 0, 0, 0, 0, 1, 1, 0, 0]\n",
      "[0, 0, 0, 0, 0, 0, 1, 0, 0, 0]\n",
      "[0, 0, 0, 0, 0, 0, 0, 0, 0, 0]\n",
      "[0, 0, 0, 0, 0, 0, 0, 0, 0, 0]\n"
     ]
    }
   ]
  },
  {
   "cell_type": "markdown",
   "id": "e86c1b6d85ffa4db",
   "metadata": {},
   "source": [
    "## *Exercise: Wrapping it up into an executable script\n",
    "\n",
    "If you have successfully implemented the Game of Life, you can put all the functions into a single Python file `game_of_life.py`. You can then run the game from the command line by executing `python game_of_life.py`. You can use the `argparse` module from Python's standard library to parse command-line arguments and set the size of the board, the probability of a cell being alive, and the number of steps the simulation should run for. You can also use the `time` module to measure how long the simulation takes to run.\n",
    "\n",
    "1. Create a new Python file `game_of_life.py` in the same directory as this notebook. Copy all relevant functions you implemented above into this file. Upon running the file, the Game of Life should be animated in the console. The user should be able to set the size of the board, the probability of a cell being alive, and the number of steps the simulation should run for.\n",
    "\n",
    "An example of how to use `argparse` to pass arguments to a python script is given below:\n",
    "```python\n",
    "import argparse\n",
    "\n",
    "parser = argparse.ArgumentParser()\n",
    "parser.add_argument(\"--size\", \"-s\", type=int, default=10, help=\"Size of the board\")\n",
    "parser.add_argument(\"--prob\", \"-p\", type=float, default=0.2, help=\"Probability of a cell being alive\")\n",
    "parser.add_argument(\"--steps\", \"-n\", type=int, default=20, help=\"Number of steps to run the simulation for\")\n",
    "\n",
    "args = parser.parse_args()\n",
    "args.size   # this will contain the size of the board\n",
    "args.prob   # this will contain the probability of a cell being alive\n",
    "args.steps  # this will contain the number of steps to run the simulation for\n",
    "\n",
    "...\n",
    "\n",
    "```\n",
    "If we wanted to run the simulation with a board of size 20, a probability of 0.3, and for 50 steps, we would run the script as follows:\n",
    "```bash\n",
    "python game_of_life.py --size 20 --prob 0.3 --steps 50\n",
    "```\n",
    " or:\n",
    "```bash\n",
    "python game_of_life.py -s 20 -p 0.3 -n 50\n",
    "```\n",
    "\n",
    "You should also take a look at the [official Python documentation](https://docs.python.org/3/library/argparse.html) for more information on how to use the `argparse` module.\n",
    "\n",
    "**NOTE:** IPython's `clear_output` function will not work in the console, so instead of this, you can import the `os` module and use the `os.system('cls')` on Windows or `os.system('clear')` on Unix systems to clear the console output between each step.\n",
    "\n",
    "### If you manage to do this, you will be rewarded with 1 extra point for this lab"
   ]
  }
 ],
 "metadata": {
  "kernelspec": {
   "display_name": "Python 3 (ipykernel)",
   "language": "python",
   "name": "python3"
  },
  "language_info": {
   "codemirror_mode": {
    "name": "ipython",
    "version": 3
   },
   "file_extension": ".py",
   "mimetype": "text/x-python",
   "name": "python",
   "nbconvert_exporter": "python",
   "pygments_lexer": "ipython3",
   "version": "3.9.20"
  }
 },
 "nbformat": 4,
 "nbformat_minor": 5
}
